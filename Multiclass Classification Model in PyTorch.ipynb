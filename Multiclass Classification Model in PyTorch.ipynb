{
 "cells": [
  {
   "cell_type": "code",
   "execution_count": 7,
   "id": "d4c46f46",
   "metadata": {},
   "outputs": [],
   "source": [
    "import pandas as pd\n",
    "\n",
    "data = pd.read_csv('iris.csv')\n",
    "x = data.iloc[:, 0:4]\n",
    "y = data.iloc[:, 4:]"
   ]
  },
  {
   "cell_type": "code",
   "execution_count": 8,
   "id": "39a88662",
   "metadata": {},
   "outputs": [
    {
     "name": "stdout",
     "output_type": "stream",
     "text": [
      "[array(['Iris-setosa', 'Iris-versicolor', 'Iris-virginica'], dtype=object)]\n",
      "[[1. 0. 0.]\n",
      " [1. 0. 0.]\n",
      " [1. 0. 0.]\n",
      " [1. 0. 0.]\n",
      " [1. 0. 0.]\n",
      " [1. 0. 0.]\n",
      " [1. 0. 0.]\n",
      " [1. 0. 0.]\n",
      " [1. 0. 0.]\n",
      " [1. 0. 0.]\n",
      " [1. 0. 0.]\n",
      " [1. 0. 0.]\n",
      " [1. 0. 0.]\n",
      " [1. 0. 0.]\n",
      " [1. 0. 0.]\n",
      " [1. 0. 0.]\n",
      " [1. 0. 0.]\n",
      " [1. 0. 0.]\n",
      " [1. 0. 0.]\n",
      " [1. 0. 0.]\n",
      " [1. 0. 0.]\n",
      " [1. 0. 0.]\n",
      " [1. 0. 0.]\n",
      " [1. 0. 0.]\n",
      " [1. 0. 0.]\n",
      " [1. 0. 0.]\n",
      " [1. 0. 0.]\n",
      " [1. 0. 0.]\n",
      " [1. 0. 0.]\n",
      " [1. 0. 0.]\n",
      " [1. 0. 0.]\n",
      " [1. 0. 0.]\n",
      " [1. 0. 0.]\n",
      " [1. 0. 0.]\n",
      " [1. 0. 0.]\n",
      " [1. 0. 0.]\n",
      " [1. 0. 0.]\n",
      " [1. 0. 0.]\n",
      " [1. 0. 0.]\n",
      " [1. 0. 0.]\n",
      " [1. 0. 0.]\n",
      " [1. 0. 0.]\n",
      " [1. 0. 0.]\n",
      " [1. 0. 0.]\n",
      " [1. 0. 0.]\n",
      " [1. 0. 0.]\n",
      " [1. 0. 0.]\n",
      " [1. 0. 0.]\n",
      " [1. 0. 0.]\n",
      " [0. 1. 0.]\n",
      " [0. 1. 0.]\n",
      " [0. 1. 0.]\n",
      " [0. 1. 0.]\n",
      " [0. 1. 0.]\n",
      " [0. 1. 0.]\n",
      " [0. 1. 0.]\n",
      " [0. 1. 0.]\n",
      " [0. 1. 0.]\n",
      " [0. 1. 0.]\n",
      " [0. 1. 0.]\n",
      " [0. 1. 0.]\n",
      " [0. 1. 0.]\n",
      " [0. 1. 0.]\n",
      " [0. 1. 0.]\n",
      " [0. 1. 0.]\n",
      " [0. 1. 0.]\n",
      " [0. 1. 0.]\n",
      " [0. 1. 0.]\n",
      " [0. 1. 0.]\n",
      " [0. 1. 0.]\n",
      " [0. 1. 0.]\n",
      " [0. 1. 0.]\n",
      " [0. 1. 0.]\n",
      " [0. 1. 0.]\n",
      " [0. 1. 0.]\n",
      " [0. 1. 0.]\n",
      " [0. 1. 0.]\n",
      " [0. 1. 0.]\n",
      " [0. 1. 0.]\n",
      " [0. 1. 0.]\n",
      " [0. 1. 0.]\n",
      " [0. 1. 0.]\n",
      " [0. 1. 0.]\n",
      " [0. 1. 0.]\n",
      " [0. 1. 0.]\n",
      " [0. 1. 0.]\n",
      " [0. 1. 0.]\n",
      " [0. 1. 0.]\n",
      " [0. 1. 0.]\n",
      " [0. 1. 0.]\n",
      " [0. 1. 0.]\n",
      " [0. 1. 0.]\n",
      " [0. 1. 0.]\n",
      " [0. 1. 0.]\n",
      " [0. 1. 0.]\n",
      " [0. 1. 0.]\n",
      " [0. 1. 0.]\n",
      " [0. 1. 0.]\n",
      " [0. 1. 0.]\n",
      " [0. 0. 1.]\n",
      " [0. 0. 1.]\n",
      " [0. 0. 1.]\n",
      " [0. 0. 1.]\n",
      " [0. 0. 1.]\n",
      " [0. 0. 1.]\n",
      " [0. 0. 1.]\n",
      " [0. 0. 1.]\n",
      " [0. 0. 1.]\n",
      " [0. 0. 1.]\n",
      " [0. 0. 1.]\n",
      " [0. 0. 1.]\n",
      " [0. 0. 1.]\n",
      " [0. 0. 1.]\n",
      " [0. 0. 1.]\n",
      " [0. 0. 1.]\n",
      " [0. 0. 1.]\n",
      " [0. 0. 1.]\n",
      " [0. 0. 1.]\n",
      " [0. 0. 1.]\n",
      " [0. 0. 1.]\n",
      " [0. 0. 1.]\n",
      " [0. 0. 1.]\n",
      " [0. 0. 1.]\n",
      " [0. 0. 1.]\n",
      " [0. 0. 1.]\n",
      " [0. 0. 1.]\n",
      " [0. 0. 1.]\n",
      " [0. 0. 1.]\n",
      " [0. 0. 1.]\n",
      " [0. 0. 1.]\n",
      " [0. 0. 1.]\n",
      " [0. 0. 1.]\n",
      " [0. 0. 1.]\n",
      " [0. 0. 1.]\n",
      " [0. 0. 1.]\n",
      " [0. 0. 1.]\n",
      " [0. 0. 1.]\n",
      " [0. 0. 1.]\n",
      " [0. 0. 1.]\n",
      " [0. 0. 1.]\n",
      " [0. 0. 1.]\n",
      " [0. 0. 1.]\n",
      " [0. 0. 1.]\n",
      " [0. 0. 1.]\n",
      " [0. 0. 1.]\n",
      " [0. 0. 1.]\n",
      " [0. 0. 1.]\n",
      " [0. 0. 1.]\n",
      " [0. 0. 1.]]\n"
     ]
    }
   ],
   "source": [
    "# Encode Categorical Variable\n",
    "from sklearn.preprocessing import OneHotEncoder\n",
    "ohe = OneHotEncoder(handle_unknown='ignore', sparse=False).fit(y)\n",
    "print(ohe.categories_)\n",
    "\n",
    "y = ohe.transform(y)\n",
    "print(y)"
   ]
  },
  {
   "cell_type": "code",
   "execution_count": 2,
   "id": "21929e56",
   "metadata": {},
   "outputs": [],
   "source": [
    "import torch\n",
    "import torch.nn as nn\n",
    "\n",
    "class Multiclass(nn.Module):\n",
    "    def __init__(self):\n",
    "        super().__init__()\n",
    "        self.hidden = nn.Linear(4, 8)\n",
    "        self.act = nn.ReLU()\n",
    "        self.output = nn.Linear(8, 3)\n",
    "            \n",
    "    def forward(self, x):\n",
    "        x = self.act(self.hidden(x))\n",
    "        x = self.output(x)\n",
    "        return x\n",
    "    \n",
    "model = Multiclass()"
   ]
  },
  {
   "cell_type": "code",
   "execution_count": 5,
   "id": "eb51dc82",
   "metadata": {},
   "outputs": [],
   "source": [
    "import torch.optim as optim\n",
    "\n",
    "loss_fn = nn.CrossEntropyLoss()\n",
    "optimizer = optim.Adam(model.parameters(), lr=0.001)"
   ]
  },
  {
   "cell_type": "code",
   "execution_count": 9,
   "id": "1f18f505",
   "metadata": {},
   "outputs": [
    {
     "name": "stderr",
     "output_type": "stream",
     "text": [
      "Epoch 0: 100%|██████████| 149/149 [00:00<00:00, 167.03batch/s]\n",
      "Epoch 1: 100%|██████████| 149/149 [00:00<00:00, 174.75batch/s]\n",
      "Epoch 2: 100%|██████████| 149/149 [00:00<00:00, 186.70batch/s]\n",
      "Epoch 3: 100%|██████████| 149/149 [00:00<00:00, 162.30batch/s]\n",
      "Epoch 4: 100%|██████████| 149/149 [00:00<00:00, 164.26batch/s]\n",
      "Epoch 5: 100%|██████████| 149/149 [00:00<00:00, 165.54batch/s]\n",
      "Epoch 6: 100%|██████████| 149/149 [00:00<00:00, 161.85batch/s]\n",
      "Epoch 7: 100%|██████████| 149/149 [00:00<00:00, 164.08batch/s]\n",
      "Epoch 8: 100%|██████████| 149/149 [00:00<00:00, 165.17batch/s]\n",
      "Epoch 9: 100%|██████████| 149/149 [00:00<00:00, 164.81batch/s]\n",
      "Epoch 10: 100%|██████████| 149/149 [00:00<00:00, 170.86batch/s]\n",
      "Epoch 11: 100%|██████████| 149/149 [00:00<00:00, 160.20batch/s]\n",
      "Epoch 12: 100%|██████████| 149/149 [00:00<00:00, 177.58batch/s]\n",
      "Epoch 13: 100%|██████████| 149/149 [00:00<00:00, 182.36batch/s]\n",
      "Epoch 14: 100%|██████████| 149/149 [00:00<00:00, 162.65batch/s]\n",
      "Epoch 15: 100%|██████████| 149/149 [00:00<00:00, 177.15batch/s]\n",
      "Epoch 16: 100%|██████████| 149/149 [00:00<00:00, 183.65batch/s]\n",
      "Epoch 17: 100%|██████████| 149/149 [00:00<00:00, 191.50batch/s]\n",
      "Epoch 18: 100%|██████████| 149/149 [00:00<00:00, 190.03batch/s]\n",
      "Epoch 19: 100%|██████████| 149/149 [00:00<00:00, 186.70batch/s]\n",
      "Epoch 20: 100%|██████████| 149/149 [00:00<00:00, 183.48batch/s]\n",
      "Epoch 21: 100%|██████████| 149/149 [00:00<00:00, 178.21batch/s]\n",
      "Epoch 22: 100%|██████████| 149/149 [00:00<00:00, 167.03batch/s]\n",
      "Epoch 23: 100%|██████████| 149/149 [00:00<00:00, 168.73batch/s]\n",
      "Epoch 24: 100%|██████████| 149/149 [00:00<00:00, 168.16batch/s]\n",
      "Epoch 25: 100%|██████████| 149/149 [00:00<00:00, 171.64batch/s]\n",
      "Epoch 26: 100%|██████████| 149/149 [00:00<00:00, 168.82batch/s]\n",
      "Epoch 27: 100%|██████████| 149/149 [00:00<00:00, 173.44batch/s]\n",
      "Epoch 28: 100%|██████████| 149/149 [00:00<00:00, 174.05batch/s]\n",
      "Epoch 29: 100%|██████████| 149/149 [00:00<00:00, 191.99batch/s]\n",
      "Epoch 30: 100%|██████████| 149/149 [00:00<00:00, 226.77batch/s]\n",
      "Epoch 31: 100%|██████████| 149/149 [00:00<00:00, 189.79batch/s]\n",
      "Epoch 32: 100%|██████████| 149/149 [00:00<00:00, 201.06batch/s]\n",
      "Epoch 33: 100%|██████████| 149/149 [00:00<00:00, 197.59batch/s]\n",
      "Epoch 34: 100%|██████████| 149/149 [00:00<00:00, 194.76batch/s]\n",
      "Epoch 35: 100%|██████████| 149/149 [00:00<00:00, 167.78batch/s]\n",
      "Epoch 36: 100%|██████████| 149/149 [00:00<00:00, 187.63batch/s]\n",
      "Epoch 37: 100%|██████████| 149/149 [00:00<00:00, 191.75batch/s]\n",
      "Epoch 38: 100%|██████████| 149/149 [00:00<00:00, 211.93batch/s]\n",
      "Epoch 39: 100%|██████████| 149/149 [00:00<00:00, 192.74batch/s]\n",
      "Epoch 40: 100%|██████████| 149/149 [00:00<00:00, 192.74batch/s]\n",
      "Epoch 41: 100%|██████████| 149/149 [00:00<00:00, 167.78batch/s]\n",
      "Epoch 42: 100%|██████████| 149/149 [00:00<00:00, 168.16batch/s]\n",
      "Epoch 43: 100%|██████████| 149/149 [00:00<00:00, 204.09batch/s]\n",
      "Epoch 44: 100%|██████████| 149/149 [00:00<00:00, 169.31batch/s]\n",
      "Epoch 45: 100%|██████████| 149/149 [00:00<00:00, 187.99batch/s]\n",
      "Epoch 46: 100%|██████████| 149/149 [00:00<00:00, 178.96batch/s]\n",
      "Epoch 47: 100%|██████████| 149/149 [00:00<00:00, 188.83batch/s]\n",
      "Epoch 48: 100%|██████████| 149/149 [00:00<00:00, 190.52batch/s]\n",
      "Epoch 49: 100%|██████████| 149/149 [00:00<00:00, 188.12batch/s]\n",
      "Epoch 50: 100%|██████████| 149/149 [00:00<00:00, 191.01batch/s]\n",
      "Epoch 51: 100%|██████████| 149/149 [00:00<00:00, 190.52batch/s]\n",
      "Epoch 52: 100%|██████████| 149/149 [00:00<00:00, 194.00batch/s]\n",
      "Epoch 53: 100%|██████████| 149/149 [00:00<00:00, 202.98batch/s]\n",
      "Epoch 54: 100%|██████████| 149/149 [00:00<00:00, 197.20batch/s]\n",
      "Epoch 55: 100%|██████████| 149/149 [00:00<00:00, 206.07batch/s]\n",
      "Epoch 56: 100%|██████████| 149/149 [00:00<00:00, 194.00batch/s]\n",
      "Epoch 57: 100%|██████████| 149/149 [00:00<00:00, 193.99batch/s]\n",
      "Epoch 58: 100%|██████████| 149/149 [00:00<00:00, 196.04batch/s]\n",
      "Epoch 59: 100%|██████████| 149/149 [00:00<00:00, 192.99batch/s]\n",
      "Epoch 60: 100%|██████████| 149/149 [00:00<00:00, 197.86batch/s]\n",
      "Epoch 61: 100%|██████████| 149/149 [00:00<00:00, 175.49batch/s]\n",
      "Epoch 62: 100%|██████████| 149/149 [00:00<00:00, 174.46batch/s]\n",
      "Epoch 63: 100%|██████████| 149/149 [00:00<00:00, 192.24batch/s]\n",
      "Epoch 64: 100%|██████████| 149/149 [00:00<00:00, 171.54batch/s]\n",
      "Epoch 65: 100%|██████████| 149/149 [00:00<00:00, 193.99batch/s]\n",
      "Epoch 66: 100%|██████████| 149/149 [00:00<00:00, 164.63batch/s]\n",
      "Epoch 67: 100%|██████████| 149/149 [00:00<00:00, 189.31batch/s]\n",
      "Epoch 68: 100%|██████████| 149/149 [00:00<00:00, 192.49batch/s]\n",
      "Epoch 69: 100%|██████████| 149/149 [00:00<00:00, 194.00batch/s]\n",
      "Epoch 70: 100%|██████████| 149/149 [00:00<00:00, 189.31batch/s]\n",
      "Epoch 71: 100%|██████████| 149/149 [00:00<00:00, 197.07batch/s]\n",
      "Epoch 72: 100%|██████████| 149/149 [00:00<00:00, 203.26batch/s]\n",
      "Epoch 73: 100%|██████████| 149/149 [00:00<00:00, 196.30batch/s]\n",
      "Epoch 74: 100%|██████████| 149/149 [00:00<00:00, 193.72batch/s]\n",
      "Epoch 75: 100%|██████████| 149/149 [00:00<00:00, 192.99batch/s]\n",
      "Epoch 76: 100%|██████████| 149/149 [00:00<00:00, 199.98batch/s]\n",
      "Epoch 77: 100%|██████████| 149/149 [00:00<00:00, 194.25batch/s]\n",
      "Epoch 78: 100%|██████████| 149/149 [00:00<00:00, 190.04batch/s]\n",
      "Epoch 79: 100%|██████████| 149/149 [00:00<00:00, 193.49batch/s]\n",
      "Epoch 80: 100%|██████████| 149/149 [00:00<00:00, 187.88batch/s]\n",
      "Epoch 81: 100%|██████████| 149/149 [00:00<00:00, 177.79batch/s]\n",
      "Epoch 82: 100%|██████████| 149/149 [00:00<00:00, 174.46batch/s]\n",
      "Epoch 83: 100%|██████████| 149/149 [00:00<00:00, 176.11batch/s]\n",
      "Epoch 84: 100%|██████████| 149/149 [00:00<00:00, 171.84batch/s]\n",
      "Epoch 85: 100%|██████████| 149/149 [00:00<00:00, 170.47batch/s]\n",
      "Epoch 86: 100%|██████████| 149/149 [00:00<00:00, 183.71batch/s]\n",
      "Epoch 87: 100%|██████████| 149/149 [00:00<00:00, 191.01batch/s]\n",
      "Epoch 88: 100%|██████████| 149/149 [00:00<00:00, 180.15batch/s]\n",
      "Epoch 89: 100%|██████████| 149/149 [00:00<00:00, 202.98batch/s]\n",
      "Epoch 90: 100%|██████████| 149/149 [00:00<00:00, 165.73batch/s]\n",
      "Epoch 91: 100%|██████████| 149/149 [00:00<00:00, 200.79batch/s]\n",
      "Epoch 92: 100%|██████████| 149/149 [00:00<00:00, 198.12batch/s]\n",
      "Epoch 93: 100%|██████████| 149/149 [00:00<00:00, 198.12batch/s]\n",
      "Epoch 94: 100%|██████████| 149/149 [00:00<00:00, 193.49batch/s]\n",
      "Epoch 95: 100%|██████████| 149/149 [00:00<00:00, 200.52batch/s]\n",
      "Epoch 96: 100%|██████████| 149/149 [00:00<00:00, 194.76batch/s]\n",
      "Epoch 97: 100%|██████████| 149/149 [00:00<00:00, 194.24batch/s]\n",
      "Epoch 98: 100%|██████████| 149/149 [00:00<00:00, 192.00batch/s]\n",
      "Epoch 99: 100%|██████████| 149/149 [00:00<00:00, 194.00batch/s]\n",
      "Epoch 100: 100%|██████████| 149/149 [00:00<00:00, 198.65batch/s]\n",
      "Epoch 101: 100%|██████████| 149/149 [00:00<00:00, 182.14batch/s]\n",
      "Epoch 102: 100%|██████████| 149/149 [00:00<00:00, 179.29batch/s]\n",
      "Epoch 103: 100%|██████████| 149/149 [00:00<00:00, 174.87batch/s]\n",
      "Epoch 104: 100%|██████████| 149/149 [00:00<00:00, 155.20batch/s]\n",
      "Epoch 105: 100%|██████████| 149/149 [00:00<00:00, 172.04batch/s]\n",
      "Epoch 106: 100%|██████████| 149/149 [00:00<00:00, 170.66batch/s]\n",
      "Epoch 107: 100%|██████████| 149/149 [00:00<00:00, 168.63batch/s]\n",
      "Epoch 108: 100%|██████████| 149/149 [00:00<00:00, 180.15batch/s]\n",
      "Epoch 109: 100%|██████████| 149/149 [00:00<00:00, 176.74batch/s]\n",
      "Epoch 110: 100%|██████████| 149/149 [00:00<00:00, 225.74batch/s]\n",
      "Epoch 111: 100%|██████████| 149/149 [00:00<00:00, 191.73batch/s]\n",
      "Epoch 112: 100%|██████████| 149/149 [00:00<00:00, 180.91batch/s]\n",
      "Epoch 113: 100%|██████████| 149/149 [00:00<00:00, 171.84batch/s]\n",
      "Epoch 114: 100%|██████████| 149/149 [00:00<00:00, 185.17batch/s]\n",
      "Epoch 115: 100%|██████████| 149/149 [00:00<00:00, 231.88batch/s]\n",
      "Epoch 116: 100%|██████████| 149/149 [00:00<00:00, 194.00batch/s]\n",
      "Epoch 117: 100%|██████████| 149/149 [00:00<00:00, 191.89batch/s]\n",
      "Epoch 118: 100%|██████████| 149/149 [00:00<00:00, 173.85batch/s]\n",
      "Epoch 119: 100%|██████████| 149/149 [00:00<00:00, 188.59batch/s]\n",
      "Epoch 120: 100%|██████████| 149/149 [00:00<00:00, 196.55batch/s]\n",
      "Epoch 121: 100%|██████████| 149/149 [00:00<00:00, 176.74batch/s]\n",
      "Epoch 122: 100%|██████████| 149/149 [00:00<00:00, 171.72batch/s]\n",
      "Epoch 123: 100%|██████████| 149/149 [00:00<00:00, 169.50batch/s]\n",
      "Epoch 124: 100%|██████████| 149/149 [00:00<00:00, 214.68batch/s]\n",
      "Epoch 125: 100%|██████████| 149/149 [00:00<00:00, 172.64batch/s]\n",
      "Epoch 126: 100%|██████████| 149/149 [00:00<00:00, 178.32batch/s]\n",
      "Epoch 127: 100%|██████████| 149/149 [00:00<00:00, 224.38batch/s]\n",
      "Epoch 128: 100%|██████████| 149/149 [00:00<00:00, 186.00batch/s]\n",
      "Epoch 129: 100%|██████████| 149/149 [00:00<00:00, 186.00batch/s]\n",
      "Epoch 130: 100%|██████████| 149/149 [00:00<00:00, 200.25batch/s]\n",
      "Epoch 131: 100%|██████████| 149/149 [00:00<00:00, 207.80batch/s]\n",
      "Epoch 132: 100%|██████████| 149/149 [00:00<00:00, 200.25batch/s]\n",
      "Epoch 133: 100%|██████████| 149/149 [00:00<00:00, 193.48batch/s]\n",
      "Epoch 134: 100%|██████████| 149/149 [00:00<00:00, 195.01batch/s]\n",
      "Epoch 135: 100%|██████████| 149/149 [00:00<00:00, 187.17batch/s]\n",
      "Epoch 136: 100%|██████████| 149/149 [00:00<00:00, 190.27batch/s]\n",
      "Epoch 137: 100%|██████████| 149/149 [00:00<00:00, 192.74batch/s]\n",
      "Epoch 138: 100%|██████████| 149/149 [00:00<00:00, 194.00batch/s]\n",
      "Epoch 139: 100%|██████████| 149/149 [00:00<00:00, 194.68batch/s]\n",
      "Epoch 140: 100%|██████████| 149/149 [00:00<00:00, 188.35batch/s]\n",
      "Epoch 141: 100%|██████████| 149/149 [00:00<00:00, 177.37batch/s]\n",
      "Epoch 142: 100%|██████████| 149/149 [00:00<00:00, 170.27batch/s]\n",
      "Epoch 143: 100%|██████████| 149/149 [00:00<00:00, 171.05batch/s]\n",
      "Epoch 144: 100%|██████████| 149/149 [00:00<00:00, 178.64batch/s]\n",
      "Epoch 145: 100%|██████████| 149/149 [00:00<00:00, 173.85batch/s]\n",
      "Epoch 146: 100%|██████████| 149/149 [00:00<00:00, 168.35batch/s]\n",
      "Epoch 147: 100%|██████████| 149/149 [00:00<00:00, 173.65batch/s]\n",
      "Epoch 148: 100%|██████████| 149/149 [00:00<00:00, 170.86batch/s]\n",
      "Epoch 149: 100%|██████████| 149/149 [00:00<00:00, 164.99batch/s]\n",
      "Epoch 150: 100%|██████████| 149/149 [00:00<00:00, 174.46batch/s]\n",
      "Epoch 151: 100%|██████████| 149/149 [00:00<00:00, 187.64batch/s]\n",
      "Epoch 152: 100%|██████████| 149/149 [00:00<00:00, 183.01batch/s]\n",
      "Epoch 153: 100%|██████████| 149/149 [00:00<00:00, 167.02batch/s]\n",
      "Epoch 154: 100%|██████████| 149/149 [00:00<00:00, 175.08batch/s]\n",
      "Epoch 155: 100%|██████████| 149/149 [00:00<00:00, 176.95batch/s]\n",
      "Epoch 156: 100%|██████████| 149/149 [00:00<00:00, 176.32batch/s]\n",
      "Epoch 157: 100%|██████████| 149/149 [00:00<00:00, 177.26batch/s]\n",
      "Epoch 158: 100%|██████████| 149/149 [00:00<00:00, 174.26batch/s]\n",
      "Epoch 159: 100%|██████████| 149/149 [00:00<00:00, 178.00batch/s]\n",
      "Epoch 160: 100%|██████████| 149/149 [00:00<00:00, 152.18batch/s]\n",
      "Epoch 161: 100%|██████████| 149/149 [00:00<00:00, 149.29batch/s]\n",
      "Epoch 162: 100%|██████████| 149/149 [00:00<00:00, 162.30batch/s]\n",
      "Epoch 163: 100%|██████████| 149/149 [00:00<00:00, 160.20batch/s]\n",
      "Epoch 164: 100%|██████████| 149/149 [00:00<00:00, 157.24batch/s]\n",
      "Epoch 165: 100%|██████████| 149/149 [00:00<00:00, 170.27batch/s]\n",
      "Epoch 166: 100%|██████████| 149/149 [00:00<00:00, 168.16batch/s]\n",
      "Epoch 167: 100%|██████████| 149/149 [00:00<00:00, 170.66batch/s]\n",
      "Epoch 168: 100%|██████████| 149/149 [00:00<00:00, 173.64batch/s]\n",
      "Epoch 169: 100%|██████████| 149/149 [00:00<00:00, 191.93batch/s]\n",
      "Epoch 170: 100%|██████████| 149/149 [00:00<00:00, 191.50batch/s]\n",
      "Epoch 171: 100%|██████████| 149/149 [00:00<00:00, 192.99batch/s]\n",
      "Epoch 172: 100%|██████████| 149/149 [00:00<00:00, 186.24batch/s]\n",
      "Epoch 173: 100%|██████████| 149/149 [00:00<00:00, 190.77batch/s]\n",
      "Epoch 174: 100%|██████████| 149/149 [00:00<00:00, 191.50batch/s]\n",
      "Epoch 175: 100%|██████████| 149/149 [00:00<00:00, 179.94batch/s]\n",
      "Epoch 176: 100%|██████████| 149/149 [00:00<00:00, 176.32batch/s]\n",
      "Epoch 177: 100%|██████████| 149/149 [00:00<00:00, 175.49batch/s]\n",
      "Epoch 178: 100%|██████████| 149/149 [00:00<00:00, 160.72batch/s]\n",
      "Epoch 179: 100%|██████████| 149/149 [00:00<00:00, 153.44batch/s]\n",
      "Epoch 180: 100%|██████████| 149/149 [00:00<00:00, 151.41batch/s]\n",
      "Epoch 181: 100%|██████████| 149/149 [00:00<00:00, 154.87batch/s]\n",
      "Epoch 182: 100%|██████████| 149/149 [00:00<00:00, 171.05batch/s]\n",
      "Epoch 183: 100%|██████████| 149/149 [00:00<00:00, 165.18batch/s]\n",
      "Epoch 184: 100%|██████████| 149/149 [00:00<00:00, 172.24batch/s]\n",
      "Epoch 185: 100%|██████████| 149/149 [00:00<00:00, 174.87batch/s]\n",
      "Epoch 186: 100%|██████████| 149/149 [00:00<00:00, 176.95batch/s]\n",
      "Epoch 187: 100%|██████████| 149/149 [00:00<00:00, 171.25batch/s]\n",
      "Epoch 188: 100%|██████████| 149/149 [00:00<00:00, 192.86batch/s]\n",
      "Epoch 189: 100%|██████████| 149/149 [00:00<00:00, 194.00batch/s]\n",
      "Epoch 190: 100%|██████████| 149/149 [00:00<00:00, 238.77batch/s]\n",
      "Epoch 191: 100%|██████████| 149/149 [00:00<00:00, 186.70batch/s]\n",
      "Epoch 192: 100%|██████████| 149/149 [00:00<00:00, 187.41batch/s]\n",
      "Epoch 193: 100%|██████████| 149/149 [00:00<00:00, 188.83batch/s]\n",
      "Epoch 194: 100%|██████████| 149/149 [00:00<00:00, 189.55batch/s]\n",
      "Epoch 195: 100%|██████████| 149/149 [00:00<00:00, 190.28batch/s]\n",
      "Epoch 196: 100%|██████████| 149/149 [00:00<00:00, 183.03batch/s]\n",
      "Epoch 197: 100%|██████████| 149/149 [00:00<00:00, 161.24batch/s]\n",
      "Epoch 198: 100%|██████████| 149/149 [00:00<00:00, 149.74batch/s]\n",
      "Epoch 199: 100%|██████████| 149/149 [00:00<00:00, 160.90batch/s]\n"
     ]
    }
   ],
   "source": [
    "import tqdm\n",
    "\n",
    "# convert pandas Dataframe (x) and numpy array (y) into Pytorch Tensors\n",
    "x = torch.tensor(x.values, dtype=torch.float32)\n",
    "y = torch.tensor(y, dtype=torch.float32)\n",
    "\n",
    "# Train parameters\n",
    "n_epochs = 200\n",
    "batch_size = 5\n",
    "batches_per_epoch = len(x)\n",
    "\n",
    "for epoch in range(n_epochs):\n",
    "    with tqdm.trange(batches_per_epoch, unit='batch', mininterval=0) as bar:\n",
    "        bar.set_description(f'Epoch {epoch}')\n",
    "        for i in bar:\n",
    "            # Take a batch\n",
    "            start = i * batch_size\n",
    "            x_batch = x[start:start+batch_size]\n",
    "            y_batch = y[start:start+batch_size]\n",
    "            # forward pass\n",
    "            y_pred = model(x_batch)\n",
    "            loss = loss_fn(y_pred, y_batch)\n",
    "            # backward pass\n",
    "            optimizer.zero_grad()\n",
    "            loss.backward()\n",
    "            # update weights\n",
    "            optimizer.step()"
   ]
  },
  {
   "cell_type": "code",
   "execution_count": null,
   "id": "86e5d8e4",
   "metadata": {},
   "outputs": [],
   "source": [
    "# from sklearn.model_selection import train_test_split\n",
    "\n",
    "data = pd.read_csv('iris.csv')\n",
    "x = data.iloc[:, 0:4]\n",
    "y = data.iloc[:, 4:]\n",
    "\n",
    "ohe = OneHotEncoder(handle_unknown='ignore', sparse=False).fit(y)\n",
    "y = ohe.transform(y)\n",
    "\n",
    "# convert pandas Dataframe (x) and numpy array (y) into Pytorch Tensors\n",
    "x = torch.tensor(x.values, dtype=torch.float32)\n",
    "y = torch.tensor(y, dtype=torch.float32)\n",
    "\n",
    "# split into train and test\n",
    "x_train, x_test, y_train, y_test = train_test_split(x, y, test_size=0.7, shuffle=True)"
   ]
  },
  {
   "cell_type": "code",
   "execution_count": 15,
   "id": "f386bf88",
   "metadata": {},
   "outputs": [
    {
     "name": "stderr",
     "output_type": "stream",
     "text": [
      "Epoch 0: 100%|██████████| 149/149 [00:01<00:00, 145.21batch/s]\n"
     ]
    },
    {
     "name": "stdout",
     "output_type": "stream",
     "text": [
      "Epoch 0 validation: Cross-entropy=0.050397228449583054, Accuracy=0.9809523820877075\n"
     ]
    },
    {
     "name": "stderr",
     "output_type": "stream",
     "text": [
      "Epoch 1: 100%|██████████| 149/149 [00:00<00:00, 152.51batch/s]\n"
     ]
    },
    {
     "name": "stdout",
     "output_type": "stream",
     "text": [
      "Epoch 1 validation: Cross-entropy=0.05035044252872467, Accuracy=0.9809523820877075\n"
     ]
    },
    {
     "name": "stderr",
     "output_type": "stream",
     "text": [
      "Epoch 2: 100%|██████████| 149/149 [00:00<00:00, 156.34batch/s]\n"
     ]
    },
    {
     "name": "stdout",
     "output_type": "stream",
     "text": [
      "Epoch 2 validation: Cross-entropy=0.05012679472565651, Accuracy=0.9809523820877075\n"
     ]
    },
    {
     "name": "stderr",
     "output_type": "stream",
     "text": [
      "Epoch 3: 100%|██████████| 149/149 [00:00<00:00, 165.11batch/s]\n"
     ]
    },
    {
     "name": "stdout",
     "output_type": "stream",
     "text": [
      "Epoch 3 validation: Cross-entropy=0.04993494972586632, Accuracy=0.9809523820877075\n"
     ]
    },
    {
     "name": "stderr",
     "output_type": "stream",
     "text": [
      "Epoch 4: 100%|██████████| 149/149 [00:01<00:00, 141.27batch/s]\n"
     ]
    },
    {
     "name": "stdout",
     "output_type": "stream",
     "text": [
      "Epoch 4 validation: Cross-entropy=0.049956854432821274, Accuracy=0.9809523820877075\n"
     ]
    },
    {
     "name": "stderr",
     "output_type": "stream",
     "text": [
      "Epoch 5: 100%|██████████| 149/149 [00:00<00:00, 154.47batch/s]\n"
     ]
    },
    {
     "name": "stdout",
     "output_type": "stream",
     "text": [
      "Epoch 5 validation: Cross-entropy=0.04971098527312279, Accuracy=0.9809523820877075\n"
     ]
    },
    {
     "name": "stderr",
     "output_type": "stream",
     "text": [
      "Epoch 6: 100%|██████████| 149/149 [00:00<00:00, 163.73batch/s]\n"
     ]
    },
    {
     "name": "stdout",
     "output_type": "stream",
     "text": [
      "Epoch 6 validation: Cross-entropy=0.04953297972679138, Accuracy=0.9809523820877075\n"
     ]
    },
    {
     "name": "stderr",
     "output_type": "stream",
     "text": [
      "Epoch 7: 100%|██████████| 149/149 [00:00<00:00, 159.52batch/s]\n"
     ]
    },
    {
     "name": "stdout",
     "output_type": "stream",
     "text": [
      "Epoch 7 validation: Cross-entropy=0.0495576411485672, Accuracy=0.9809523820877075\n"
     ]
    },
    {
     "name": "stderr",
     "output_type": "stream",
     "text": [
      "Epoch 8: 100%|██████████| 149/149 [00:01<00:00, 147.94batch/s]\n"
     ]
    },
    {
     "name": "stdout",
     "output_type": "stream",
     "text": [
      "Epoch 8 validation: Cross-entropy=0.04931137338280678, Accuracy=0.9809523820877075\n"
     ]
    },
    {
     "name": "stderr",
     "output_type": "stream",
     "text": [
      "Epoch 9: 100%|██████████| 149/149 [00:01<00:00, 145.64batch/s]\n"
     ]
    },
    {
     "name": "stdout",
     "output_type": "stream",
     "text": [
      "Epoch 9 validation: Cross-entropy=0.04927733913064003, Accuracy=0.9809523820877075\n"
     ]
    },
    {
     "name": "stderr",
     "output_type": "stream",
     "text": [
      "Epoch 10: 100%|██████████| 149/149 [00:00<00:00, 152.65batch/s]\n"
     ]
    },
    {
     "name": "stdout",
     "output_type": "stream",
     "text": [
      "Epoch 10 validation: Cross-entropy=0.04906254634261131, Accuracy=0.9809523820877075\n"
     ]
    },
    {
     "name": "stderr",
     "output_type": "stream",
     "text": [
      "Epoch 11: 100%|██████████| 149/149 [00:00<00:00, 160.03batch/s]\n"
     ]
    },
    {
     "name": "stdout",
     "output_type": "stream",
     "text": [
      "Epoch 11 validation: Cross-entropy=0.04888768121600151, Accuracy=0.9809523820877075\n"
     ]
    },
    {
     "name": "stderr",
     "output_type": "stream",
     "text": [
      "Epoch 12: 100%|██████████| 149/149 [00:00<00:00, 179.93batch/s]\n"
     ]
    },
    {
     "name": "stdout",
     "output_type": "stream",
     "text": [
      "Epoch 12 validation: Cross-entropy=0.04891723021864891, Accuracy=0.9809523820877075\n"
     ]
    },
    {
     "name": "stderr",
     "output_type": "stream",
     "text": [
      "Epoch 13: 100%|██████████| 149/149 [00:00<00:00, 179.50batch/s]\n"
     ]
    },
    {
     "name": "stdout",
     "output_type": "stream",
     "text": [
      "Epoch 13 validation: Cross-entropy=0.04867764934897423, Accuracy=0.9809523820877075\n"
     ]
    },
    {
     "name": "stderr",
     "output_type": "stream",
     "text": [
      "Epoch 14: 100%|██████████| 149/149 [00:00<00:00, 176.53batch/s]\n"
     ]
    },
    {
     "name": "stdout",
     "output_type": "stream",
     "text": [
      "Epoch 14 validation: Cross-entropy=0.04852087050676346, Accuracy=0.9809523820877075\n"
     ]
    },
    {
     "name": "stderr",
     "output_type": "stream",
     "text": [
      "Epoch 15: 100%|██████████| 149/149 [00:00<00:00, 205.22batch/s]\n"
     ]
    },
    {
     "name": "stdout",
     "output_type": "stream",
     "text": [
      "Epoch 15 validation: Cross-entropy=0.04854637384414673, Accuracy=0.9809523820877075\n"
     ]
    },
    {
     "name": "stderr",
     "output_type": "stream",
     "text": [
      "Epoch 16: 100%|██████████| 149/149 [00:00<00:00, 182.36batch/s]\n"
     ]
    },
    {
     "name": "stdout",
     "output_type": "stream",
     "text": [
      "Epoch 16 validation: Cross-entropy=0.04827367141842842, Accuracy=0.9809523820877075\n"
     ]
    },
    {
     "name": "stderr",
     "output_type": "stream",
     "text": [
      "Epoch 17: 100%|██████████| 149/149 [00:00<00:00, 165.54batch/s]\n"
     ]
    },
    {
     "name": "stdout",
     "output_type": "stream",
     "text": [
      "Epoch 17 validation: Cross-entropy=0.048312630504369736, Accuracy=0.9809523820877075\n"
     ]
    },
    {
     "name": "stderr",
     "output_type": "stream",
     "text": [
      "Epoch 18: 100%|██████████| 149/149 [00:00<00:00, 159.65batch/s]\n"
     ]
    },
    {
     "name": "stdout",
     "output_type": "stream",
     "text": [
      "Epoch 18 validation: Cross-entropy=0.048029202967882156, Accuracy=0.9809523820877075\n"
     ]
    },
    {
     "name": "stderr",
     "output_type": "stream",
     "text": [
      "Epoch 19: 100%|██████████| 149/149 [00:00<00:00, 168.54batch/s]\n"
     ]
    },
    {
     "name": "stdout",
     "output_type": "stream",
     "text": [
      "Epoch 19 validation: Cross-entropy=0.048075515776872635, Accuracy=0.9809523820877075\n"
     ]
    },
    {
     "name": "stderr",
     "output_type": "stream",
     "text": [
      "Epoch 20: 100%|██████████| 149/149 [00:00<00:00, 172.44batch/s]\n"
     ]
    },
    {
     "name": "stdout",
     "output_type": "stream",
     "text": [
      "Epoch 20 validation: Cross-entropy=0.04776855930685997, Accuracy=0.9809523820877075\n"
     ]
    },
    {
     "name": "stderr",
     "output_type": "stream",
     "text": [
      "Epoch 21: 100%|██████████| 149/149 [00:00<00:00, 180.16batch/s]\n"
     ]
    },
    {
     "name": "stdout",
     "output_type": "stream",
     "text": [
      "Epoch 21 validation: Cross-entropy=0.04783005639910698, Accuracy=0.9809523820877075\n"
     ]
    },
    {
     "name": "stderr",
     "output_type": "stream",
     "text": [
      "Epoch 22: 100%|██████████| 149/149 [00:00<00:00, 226.08batch/s]\n"
     ]
    },
    {
     "name": "stdout",
     "output_type": "stream",
     "text": [
      "Epoch 22 validation: Cross-entropy=0.04747318848967552, Accuracy=0.9809523820877075\n"
     ]
    },
    {
     "name": "stderr",
     "output_type": "stream",
     "text": [
      "Epoch 23: 100%|██████████| 149/149 [00:00<00:00, 178.22batch/s]\n"
     ]
    },
    {
     "name": "stdout",
     "output_type": "stream",
     "text": [
      "Epoch 23 validation: Cross-entropy=0.04760374873876572, Accuracy=0.9809523820877075\n"
     ]
    },
    {
     "name": "stderr",
     "output_type": "stream",
     "text": [
      "Epoch 24: 100%|██████████| 149/149 [00:00<00:00, 179.72batch/s]\n"
     ]
    },
    {
     "name": "stdout",
     "output_type": "stream",
     "text": [
      "Epoch 24 validation: Cross-entropy=0.04725997895002365, Accuracy=0.9809523820877075\n"
     ]
    },
    {
     "name": "stderr",
     "output_type": "stream",
     "text": [
      "Epoch 25: 100%|██████████| 149/149 [00:00<00:00, 171.84batch/s]\n"
     ]
    },
    {
     "name": "stdout",
     "output_type": "stream",
     "text": [
      "Epoch 25 validation: Cross-entropy=0.047384943813085556, Accuracy=0.9809523820877075\n"
     ]
    },
    {
     "name": "stderr",
     "output_type": "stream",
     "text": [
      "Epoch 26: 100%|██████████| 149/149 [00:00<00:00, 232.79batch/s]\n"
     ]
    },
    {
     "name": "stdout",
     "output_type": "stream",
     "text": [
      "Epoch 26 validation: Cross-entropy=0.04704494774341583, Accuracy=0.9809523820877075\n"
     ]
    },
    {
     "name": "stderr",
     "output_type": "stream",
     "text": [
      "Epoch 27: 100%|██████████| 149/149 [00:00<00:00, 202.98batch/s]\n"
     ]
    },
    {
     "name": "stdout",
     "output_type": "stream",
     "text": [
      "Epoch 27 validation: Cross-entropy=0.0471695214509964, Accuracy=0.9809523820877075\n"
     ]
    },
    {
     "name": "stderr",
     "output_type": "stream",
     "text": [
      "Epoch 28: 100%|██████████| 149/149 [00:00<00:00, 200.52batch/s]\n"
     ]
    },
    {
     "name": "stdout",
     "output_type": "stream",
     "text": [
      "Epoch 28 validation: Cross-entropy=0.046955954283475876, Accuracy=0.9809523820877075\n"
     ]
    },
    {
     "name": "stderr",
     "output_type": "stream",
     "text": [
      "Epoch 29: 100%|██████████| 149/149 [00:00<00:00, 198.65batch/s]\n"
     ]
    },
    {
     "name": "stdout",
     "output_type": "stream",
     "text": [
      "Epoch 29 validation: Cross-entropy=0.04684945195913315, Accuracy=0.9809523820877075\n"
     ]
    },
    {
     "name": "stderr",
     "output_type": "stream",
     "text": [
      "Epoch 30: 100%|██████████| 149/149 [00:00<00:00, 205.22batch/s]\n"
     ]
    },
    {
     "name": "stdout",
     "output_type": "stream",
     "text": [
      "Epoch 30 validation: Cross-entropy=0.046791329979896545, Accuracy=0.9809523820877075\n"
     ]
    },
    {
     "name": "stderr",
     "output_type": "stream",
     "text": [
      "Epoch 31: 100%|██████████| 149/149 [00:00<00:00, 198.65batch/s]\n"
     ]
    },
    {
     "name": "stdout",
     "output_type": "stream",
     "text": [
      "Epoch 31 validation: Cross-entropy=0.0465427041053772, Accuracy=0.9809523820877075\n"
     ]
    },
    {
     "name": "stderr",
     "output_type": "stream",
     "text": [
      "Epoch 32: 100%|██████████| 149/149 [00:00<00:00, 201.34batch/s]\n"
     ]
    },
    {
     "name": "stdout",
     "output_type": "stream",
     "text": [
      "Epoch 32 validation: Cross-entropy=0.04663028195500374, Accuracy=0.9809523820877075\n"
     ]
    },
    {
     "name": "stderr",
     "output_type": "stream",
     "text": [
      "Epoch 33: 100%|██████████| 149/149 [00:00<00:00, 196.29batch/s]\n"
     ]
    },
    {
     "name": "stdout",
     "output_type": "stream",
     "text": [
      "Epoch 33 validation: Cross-entropy=0.04643971472978592, Accuracy=0.9809523820877075\n"
     ]
    },
    {
     "name": "stderr",
     "output_type": "stream",
     "text": [
      "Epoch 34: 100%|██████████| 149/149 [00:00<00:00, 193.74batch/s]\n"
     ]
    },
    {
     "name": "stdout",
     "output_type": "stream",
     "text": [
      "Epoch 34 validation: Cross-entropy=0.04625708609819412, Accuracy=0.9809523820877075\n"
     ]
    },
    {
     "name": "stderr",
     "output_type": "stream",
     "text": [
      "Epoch 35: 100%|██████████| 149/149 [00:00<00:00, 183.93batch/s]\n"
     ]
    },
    {
     "name": "stdout",
     "output_type": "stream",
     "text": [
      "Epoch 35 validation: Cross-entropy=0.04631561040878296, Accuracy=0.9809523820877075\n"
     ]
    },
    {
     "name": "stderr",
     "output_type": "stream",
     "text": [
      "Epoch 36: 100%|██████████| 149/149 [00:00<00:00, 195.78batch/s]\n"
     ]
    },
    {
     "name": "stdout",
     "output_type": "stream",
     "text": [
      "Epoch 36 validation: Cross-entropy=0.04602096602320671, Accuracy=0.9809523820877075\n"
     ]
    },
    {
     "name": "stderr",
     "output_type": "stream",
     "text": [
      "Epoch 37: 100%|██████████| 149/149 [00:00<00:00, 168.35batch/s]\n"
     ]
    },
    {
     "name": "stdout",
     "output_type": "stream",
     "text": [
      "Epoch 37 validation: Cross-entropy=0.046133190393447876, Accuracy=0.9809523820877075\n"
     ]
    },
    {
     "name": "stderr",
     "output_type": "stream",
     "text": [
      "Epoch 38: 100%|██████████| 149/149 [00:00<00:00, 167.97batch/s]\n"
     ]
    },
    {
     "name": "stdout",
     "output_type": "stream",
     "text": [
      "Epoch 38 validation: Cross-entropy=0.04581577330827713, Accuracy=0.9809523820877075\n"
     ]
    },
    {
     "name": "stderr",
     "output_type": "stream",
     "text": [
      "Epoch 39: 100%|██████████| 149/149 [00:01<00:00, 140.68batch/s]\n"
     ]
    },
    {
     "name": "stdout",
     "output_type": "stream",
     "text": [
      "Epoch 39 validation: Cross-entropy=0.04594055190682411, Accuracy=0.9809523820877075\n"
     ]
    },
    {
     "name": "stderr",
     "output_type": "stream",
     "text": [
      "Epoch 40: 100%|██████████| 149/149 [00:00<00:00, 150.04batch/s]\n"
     ]
    },
    {
     "name": "stdout",
     "output_type": "stream",
     "text": [
      "Epoch 40 validation: Cross-entropy=0.045740481466054916, Accuracy=0.9809523820877075\n"
     ]
    },
    {
     "name": "stderr",
     "output_type": "stream",
     "text": [
      "Epoch 41: 100%|██████████| 149/149 [00:00<00:00, 170.86batch/s]\n"
     ]
    },
    {
     "name": "stdout",
     "output_type": "stream",
     "text": [
      "Epoch 41 validation: Cross-entropy=0.045572035014629364, Accuracy=0.9809523820877075\n"
     ]
    },
    {
     "name": "stderr",
     "output_type": "stream",
     "text": [
      "Epoch 42: 100%|██████████| 149/149 [00:00<00:00, 170.27batch/s]\n"
     ]
    },
    {
     "name": "stdout",
     "output_type": "stream",
     "text": [
      "Epoch 42 validation: Cross-entropy=0.04563059285283089, Accuracy=0.9809523820877075\n"
     ]
    },
    {
     "name": "stderr",
     "output_type": "stream",
     "text": [
      "Epoch 43: 100%|██████████| 149/149 [00:00<00:00, 167.68batch/s]\n"
     ]
    },
    {
     "name": "stdout",
     "output_type": "stream",
     "text": [
      "Epoch 43 validation: Cross-entropy=0.04534528777003288, Accuracy=0.9809523820877075\n"
     ]
    },
    {
     "name": "stderr",
     "output_type": "stream",
     "text": [
      "Epoch 44: 100%|██████████| 149/149 [00:00<00:00, 171.84batch/s]\n"
     ]
    },
    {
     "name": "stdout",
     "output_type": "stream",
     "text": [
      "Epoch 44 validation: Cross-entropy=0.04545978456735611, Accuracy=0.9809523820877075\n"
     ]
    },
    {
     "name": "stderr",
     "output_type": "stream",
     "text": [
      "Epoch 45: 100%|██████████| 149/149 [00:00<00:00, 183.94batch/s]\n"
     ]
    },
    {
     "name": "stdout",
     "output_type": "stream",
     "text": [
      "Epoch 45 validation: Cross-entropy=0.04526982083916664, Accuracy=0.9809523820877075\n"
     ]
    },
    {
     "name": "stderr",
     "output_type": "stream",
     "text": [
      "Epoch 46: 100%|██████████| 149/149 [00:00<00:00, 189.55batch/s]\n"
     ]
    },
    {
     "name": "stdout",
     "output_type": "stream",
     "text": [
      "Epoch 46 validation: Cross-entropy=0.04510440677404404, Accuracy=0.9809523820877075\n"
     ]
    },
    {
     "name": "stderr",
     "output_type": "stream",
     "text": [
      "Epoch 47: 100%|██████████| 149/149 [00:00<00:00, 205.07batch/s]\n"
     ]
    },
    {
     "name": "stdout",
     "output_type": "stream",
     "text": [
      "Epoch 47 validation: Cross-entropy=0.04516542702913284, Accuracy=0.9809523820877075\n"
     ]
    },
    {
     "name": "stderr",
     "output_type": "stream",
     "text": [
      "Epoch 48: 100%|██████████| 149/149 [00:00<00:00, 206.93batch/s]\n"
     ]
    },
    {
     "name": "stdout",
     "output_type": "stream",
     "text": [
      "Epoch 48 validation: Cross-entropy=0.0448860302567482, Accuracy=0.9809523820877075\n"
     ]
    },
    {
     "name": "stderr",
     "output_type": "stream",
     "text": [
      "Epoch 49: 100%|██████████| 149/149 [00:00<00:00, 203.81batch/s]\n"
     ]
    },
    {
     "name": "stdout",
     "output_type": "stream",
     "text": [
      "Epoch 49 validation: Cross-entropy=0.0450017936527729, Accuracy=0.9809523820877075\n"
     ]
    },
    {
     "name": "stderr",
     "output_type": "stream",
     "text": [
      "Epoch 50: 100%|██████████| 149/149 [00:00<00:00, 193.99batch/s]\n"
     ]
    },
    {
     "name": "stdout",
     "output_type": "stream",
     "text": [
      "Epoch 50 validation: Cross-entropy=0.044816724956035614, Accuracy=0.9809523820877075\n"
     ]
    },
    {
     "name": "stderr",
     "output_type": "stream",
     "text": [
      "Epoch 51: 100%|██████████| 149/149 [00:00<00:00, 196.56batch/s]\n"
     ]
    },
    {
     "name": "stdout",
     "output_type": "stream",
     "text": [
      "Epoch 51 validation: Cross-entropy=0.04465104639530182, Accuracy=0.9809523820877075\n"
     ]
    },
    {
     "name": "stderr",
     "output_type": "stream",
     "text": [
      "Epoch 52: 100%|██████████| 149/149 [00:00<00:00, 196.56batch/s]\n"
     ]
    },
    {
     "name": "stdout",
     "output_type": "stream",
     "text": [
      "Epoch 52 validation: Cross-entropy=0.0446956492960453, Accuracy=0.9809523820877075\n"
     ]
    },
    {
     "name": "stderr",
     "output_type": "stream",
     "text": [
      "Epoch 53: 100%|██████████| 149/149 [00:00<00:00, 199.98batch/s]\n"
     ]
    },
    {
     "name": "stdout",
     "output_type": "stream",
     "text": [
      "Epoch 53 validation: Cross-entropy=0.04463297501206398, Accuracy=0.9809523820877075\n"
     ]
    },
    {
     "name": "stderr",
     "output_type": "stream",
     "text": [
      "Epoch 54: 100%|██████████| 149/149 [00:00<00:00, 189.07batch/s]\n"
     ]
    },
    {
     "name": "stdout",
     "output_type": "stream",
     "text": [
      "Epoch 54 validation: Cross-entropy=0.04432729259133339, Accuracy=0.9809523820877075\n"
     ]
    },
    {
     "name": "stderr",
     "output_type": "stream",
     "text": [
      "Epoch 55: 100%|██████████| 149/149 [00:00<00:00, 190.28batch/s]\n"
     ]
    },
    {
     "name": "stdout",
     "output_type": "stream",
     "text": [
      "Epoch 55 validation: Cross-entropy=0.04446563869714737, Accuracy=0.9809523820877075\n"
     ]
    },
    {
     "name": "stderr",
     "output_type": "stream",
     "text": [
      "Epoch 56: 100%|██████████| 149/149 [00:00<00:00, 163.18batch/s]\n"
     ]
    },
    {
     "name": "stdout",
     "output_type": "stream",
     "text": [
      "Epoch 56 validation: Cross-entropy=0.044273022562265396, Accuracy=0.9809523820877075\n"
     ]
    },
    {
     "name": "stderr",
     "output_type": "stream",
     "text": [
      "Epoch 57: 100%|██████████| 149/149 [00:00<00:00, 169.50batch/s]\n"
     ]
    },
    {
     "name": "stdout",
     "output_type": "stream",
     "text": [
      "Epoch 57 validation: Cross-entropy=0.04418759047985077, Accuracy=0.9809523820877075\n"
     ]
    },
    {
     "name": "stderr",
     "output_type": "stream",
     "text": [
      "Epoch 58: 100%|██████████| 149/149 [00:00<00:00, 164.26batch/s]\n"
     ]
    },
    {
     "name": "stdout",
     "output_type": "stream",
     "text": [
      "Epoch 58 validation: Cross-entropy=0.044154368340969086, Accuracy=0.9809523820877075\n"
     ]
    },
    {
     "name": "stderr",
     "output_type": "stream",
     "text": [
      "Epoch 59: 100%|██████████| 149/149 [00:00<00:00, 168.54batch/s]\n"
     ]
    },
    {
     "name": "stdout",
     "output_type": "stream",
     "text": [
      "Epoch 59 validation: Cross-entropy=0.04404895007610321, Accuracy=0.9809523820877075\n"
     ]
    },
    {
     "name": "stderr",
     "output_type": "stream",
     "text": [
      "Epoch 60: 100%|██████████| 149/149 [00:00<00:00, 167.78batch/s]\n"
     ]
    },
    {
     "name": "stdout",
     "output_type": "stream",
     "text": [
      "Epoch 60 validation: Cross-entropy=0.043925583362579346, Accuracy=0.9809523820877075\n"
     ]
    },
    {
     "name": "stderr",
     "output_type": "stream",
     "text": [
      "Epoch 61: 100%|██████████| 149/149 [00:00<00:00, 172.44batch/s]\n"
     ]
    },
    {
     "name": "stdout",
     "output_type": "stream",
     "text": [
      "Epoch 61 validation: Cross-entropy=0.043913405388593674, Accuracy=0.9809523820877075\n"
     ]
    },
    {
     "name": "stderr",
     "output_type": "stream",
     "text": [
      "Epoch 62: 100%|██████████| 149/149 [00:00<00:00, 178.21batch/s]\n"
     ]
    },
    {
     "name": "stdout",
     "output_type": "stream",
     "text": [
      "Epoch 62 validation: Cross-entropy=0.043801188468933105, Accuracy=0.9809523820877075\n"
     ]
    },
    {
     "name": "stderr",
     "output_type": "stream",
     "text": [
      "Epoch 63: 100%|██████████| 149/149 [00:00<00:00, 172.84batch/s]\n"
     ]
    },
    {
     "name": "stdout",
     "output_type": "stream",
     "text": [
      "Epoch 63 validation: Cross-entropy=0.04368302598595619, Accuracy=0.9809523820877075\n"
     ]
    },
    {
     "name": "stderr",
     "output_type": "stream",
     "text": [
      "Epoch 64: 100%|██████████| 149/149 [00:00<00:00, 184.62batch/s]\n"
     ]
    },
    {
     "name": "stdout",
     "output_type": "stream",
     "text": [
      "Epoch 64 validation: Cross-entropy=0.04367201030254364, Accuracy=0.9809523820877075\n"
     ]
    },
    {
     "name": "stderr",
     "output_type": "stream",
     "text": [
      "Epoch 65: 100%|██████████| 149/149 [00:00<00:00, 182.36batch/s]\n"
     ]
    },
    {
     "name": "stdout",
     "output_type": "stream",
     "text": [
      "Epoch 65 validation: Cross-entropy=0.043561339378356934, Accuracy=0.9809523820877075\n"
     ]
    },
    {
     "name": "stderr",
     "output_type": "stream",
     "text": [
      "Epoch 66: 100%|██████████| 149/149 [00:00<00:00, 202.16batch/s]\n"
     ]
    },
    {
     "name": "stdout",
     "output_type": "stream",
     "text": [
      "Epoch 66 validation: Cross-entropy=0.043445125222206116, Accuracy=0.9809523820877075\n"
     ]
    },
    {
     "name": "stderr",
     "output_type": "stream",
     "text": [
      "Epoch 67: 100%|██████████| 149/149 [00:00<00:00, 205.22batch/s]\n"
     ]
    },
    {
     "name": "stdout",
     "output_type": "stream",
     "text": [
      "Epoch 67 validation: Cross-entropy=0.04342964291572571, Accuracy=0.9809523820877075\n"
     ]
    },
    {
     "name": "stderr",
     "output_type": "stream",
     "text": [
      "Epoch 68: 100%|██████████| 149/149 [00:00<00:00, 198.39batch/s]\n"
     ]
    },
    {
     "name": "stdout",
     "output_type": "stream",
     "text": [
      "Epoch 68 validation: Cross-entropy=0.043330464512109756, Accuracy=0.9809523820877075\n"
     ]
    },
    {
     "name": "stderr",
     "output_type": "stream",
     "text": [
      "Epoch 69: 100%|██████████| 149/149 [00:00<00:00, 199.98batch/s]\n"
     ]
    },
    {
     "name": "stdout",
     "output_type": "stream",
     "text": [
      "Epoch 69 validation: Cross-entropy=0.04332403093576431, Accuracy=0.9809523820877075\n"
     ]
    },
    {
     "name": "stderr",
     "output_type": "stream",
     "text": [
      "Epoch 70: 100%|██████████| 149/149 [00:00<00:00, 202.43batch/s]\n"
     ]
    },
    {
     "name": "stdout",
     "output_type": "stream",
     "text": [
      "Epoch 70 validation: Cross-entropy=0.043035656213760376, Accuracy=0.9809523820877075\n"
     ]
    },
    {
     "name": "stderr",
     "output_type": "stream",
     "text": [
      "Epoch 71: 100%|██████████| 149/149 [00:00<00:00, 196.93batch/s]\n"
     ]
    },
    {
     "name": "stdout",
     "output_type": "stream",
     "text": [
      "Epoch 71 validation: Cross-entropy=0.04317223280668259, Accuracy=0.9809523820877075\n"
     ]
    },
    {
     "name": "stderr",
     "output_type": "stream",
     "text": [
      "Epoch 72: 100%|██████████| 149/149 [00:00<00:00, 195.78batch/s]\n"
     ]
    },
    {
     "name": "stdout",
     "output_type": "stream",
     "text": [
      "Epoch 72 validation: Cross-entropy=0.04305677488446236, Accuracy=0.9809523820877075\n"
     ]
    },
    {
     "name": "stderr",
     "output_type": "stream",
     "text": [
      "Epoch 73: 100%|██████████| 149/149 [00:00<00:00, 195.78batch/s]\n"
     ]
    },
    {
     "name": "stdout",
     "output_type": "stream",
     "text": [
      "Epoch 73 validation: Cross-entropy=0.04288711026310921, Accuracy=0.9809523820877075\n"
     ]
    },
    {
     "name": "stderr",
     "output_type": "stream",
     "text": [
      "Epoch 74: 100%|██████████| 149/149 [00:00<00:00, 195.27batch/s]\n"
     ]
    },
    {
     "name": "stdout",
     "output_type": "stream",
     "text": [
      "Epoch 74 validation: Cross-entropy=0.04291005805134773, Accuracy=0.9809523820877075\n"
     ]
    },
    {
     "name": "stderr",
     "output_type": "stream",
     "text": [
      "Epoch 75: 100%|██████████| 149/149 [00:00<00:00, 190.28batch/s]\n"
     ]
    },
    {
     "name": "stdout",
     "output_type": "stream",
     "text": [
      "Epoch 75 validation: Cross-entropy=0.04279226064682007, Accuracy=0.9809523820877075\n"
     ]
    },
    {
     "name": "stderr",
     "output_type": "stream",
     "text": [
      "Epoch 76: 100%|██████████| 149/149 [00:00<00:00, 160.03batch/s]\n"
     ]
    },
    {
     "name": "stdout",
     "output_type": "stream",
     "text": [
      "Epoch 76 validation: Cross-entropy=0.04268721118569374, Accuracy=0.9809523820877075\n"
     ]
    },
    {
     "name": "stderr",
     "output_type": "stream",
     "text": [
      "Epoch 77: 100%|██████████| 149/149 [00:00<00:00, 167.40batch/s]\n"
     ]
    },
    {
     "name": "stdout",
     "output_type": "stream",
     "text": [
      "Epoch 77 validation: Cross-entropy=0.04268191382288933, Accuracy=0.9809523820877075\n"
     ]
    },
    {
     "name": "stderr",
     "output_type": "stream",
     "text": [
      "Epoch 78: 100%|██████████| 149/149 [00:00<00:00, 175.69batch/s]\n"
     ]
    },
    {
     "name": "stdout",
     "output_type": "stream",
     "text": [
      "Epoch 78 validation: Cross-entropy=0.04263610020279884, Accuracy=0.9809523820877075\n"
     ]
    },
    {
     "name": "stderr",
     "output_type": "stream",
     "text": [
      "Epoch 79: 100%|██████████| 149/149 [00:00<00:00, 169.30batch/s]\n"
     ]
    },
    {
     "name": "stdout",
     "output_type": "stream",
     "text": [
      "Epoch 79 validation: Cross-entropy=0.04249458387494087, Accuracy=0.9809523820877075\n"
     ]
    },
    {
     "name": "stderr",
     "output_type": "stream",
     "text": [
      "Epoch 80: 100%|██████████| 149/149 [00:00<00:00, 171.05batch/s]\n"
     ]
    },
    {
     "name": "stdout",
     "output_type": "stream",
     "text": [
      "Epoch 80 validation: Cross-entropy=0.0424039289355278, Accuracy=0.9809523820877075\n"
     ]
    },
    {
     "name": "stderr",
     "output_type": "stream",
     "text": [
      "Epoch 81: 100%|██████████| 149/149 [00:00<00:00, 166.10batch/s]\n"
     ]
    },
    {
     "name": "stdout",
     "output_type": "stream",
     "text": [
      "Epoch 81 validation: Cross-entropy=0.04239503666758537, Accuracy=0.9809523820877075\n"
     ]
    },
    {
     "name": "stderr",
     "output_type": "stream",
     "text": [
      "Epoch 82: 100%|██████████| 149/149 [00:00<00:00, 170.47batch/s]\n"
     ]
    },
    {
     "name": "stdout",
     "output_type": "stream",
     "text": [
      "Epoch 82 validation: Cross-entropy=0.04235304519534111, Accuracy=0.9809523820877075\n"
     ]
    },
    {
     "name": "stderr",
     "output_type": "stream",
     "text": [
      "Epoch 83: 100%|██████████| 149/149 [00:00<00:00, 180.15batch/s]\n"
     ]
    },
    {
     "name": "stdout",
     "output_type": "stream",
     "text": [
      "Epoch 83 validation: Cross-entropy=0.04210442304611206, Accuracy=0.9809523820877075\n"
     ]
    },
    {
     "name": "stderr",
     "output_type": "stream",
     "text": [
      "Epoch 84: 100%|██████████| 149/149 [00:00<00:00, 172.84batch/s]\n"
     ]
    },
    {
     "name": "stdout",
     "output_type": "stream",
     "text": [
      "Epoch 84 validation: Cross-entropy=0.04223037511110306, Accuracy=0.9809523820877075\n"
     ]
    },
    {
     "name": "stderr",
     "output_type": "stream",
     "text": [
      "Epoch 85: 100%|██████████| 149/149 [00:00<00:00, 191.99batch/s]\n"
     ]
    },
    {
     "name": "stdout",
     "output_type": "stream",
     "text": [
      "Epoch 85 validation: Cross-entropy=0.04212568327784538, Accuracy=0.9809523820877075\n"
     ]
    },
    {
     "name": "stderr",
     "output_type": "stream",
     "text": [
      "Epoch 86: 100%|██████████| 149/149 [00:00<00:00, 185.08batch/s]\n"
     ]
    },
    {
     "name": "stdout",
     "output_type": "stream",
     "text": [
      "Epoch 86 validation: Cross-entropy=0.041909173130989075, Accuracy=0.9809523820877075\n"
     ]
    },
    {
     "name": "stderr",
     "output_type": "stream",
     "text": [
      "Epoch 87: 100%|██████████| 149/149 [00:00<00:00, 164.08batch/s]\n"
     ]
    },
    {
     "name": "stdout",
     "output_type": "stream",
     "text": [
      "Epoch 87 validation: Cross-entropy=0.042021773755550385, Accuracy=0.9809523820877075\n"
     ]
    },
    {
     "name": "stderr",
     "output_type": "stream",
     "text": [
      "Epoch 88: 100%|██████████| 149/149 [00:00<00:00, 190.52batch/s]\n"
     ]
    },
    {
     "name": "stdout",
     "output_type": "stream",
     "text": [
      "Epoch 88 validation: Cross-entropy=0.04192453250288963, Accuracy=0.9809523820877075\n"
     ]
    },
    {
     "name": "stderr",
     "output_type": "stream",
     "text": [
      "Epoch 89: 100%|██████████| 149/149 [00:00<00:00, 205.22batch/s]\n"
     ]
    },
    {
     "name": "stdout",
     "output_type": "stream",
     "text": [
      "Epoch 89 validation: Cross-entropy=0.04181640222668648, Accuracy=0.9809523820877075\n"
     ]
    },
    {
     "name": "stderr",
     "output_type": "stream",
     "text": [
      "Epoch 90: 100%|██████████| 149/149 [00:00<00:00, 195.77batch/s]\n"
     ]
    },
    {
     "name": "stdout",
     "output_type": "stream",
     "text": [
      "Epoch 90 validation: Cross-entropy=0.041716430336236954, Accuracy=0.9809523820877075\n"
     ]
    },
    {
     "name": "stderr",
     "output_type": "stream",
     "text": [
      "Epoch 91: 100%|██████████| 149/149 [00:00<00:00, 195.27batch/s]\n"
     ]
    },
    {
     "name": "stdout",
     "output_type": "stream",
     "text": [
      "Epoch 91 validation: Cross-entropy=0.041719481348991394, Accuracy=0.9809523820877075\n"
     ]
    },
    {
     "name": "stderr",
     "output_type": "stream",
     "text": [
      "Epoch 92: 100%|██████████| 149/149 [00:00<00:00, 194.50batch/s]\n"
     ]
    },
    {
     "name": "stdout",
     "output_type": "stream",
     "text": [
      "Epoch 92 validation: Cross-entropy=0.04167591407895088, Accuracy=0.9809523820877075\n"
     ]
    },
    {
     "name": "stderr",
     "output_type": "stream",
     "text": [
      "Epoch 93: 100%|██████████| 149/149 [00:00<00:00, 199.45batch/s]\n"
     ]
    },
    {
     "name": "stdout",
     "output_type": "stream",
     "text": [
      "Epoch 93 validation: Cross-entropy=0.04143872484564781, Accuracy=0.9809523820877075\n"
     ]
    },
    {
     "name": "stderr",
     "output_type": "stream",
     "text": [
      "Epoch 94: 100%|██████████| 149/149 [00:00<00:00, 183.03batch/s]\n"
     ]
    },
    {
     "name": "stdout",
     "output_type": "stream",
     "text": [
      "Epoch 94 validation: Cross-entropy=0.0415646955370903, Accuracy=0.9809523820877075\n"
     ]
    },
    {
     "name": "stderr",
     "output_type": "stream",
     "text": [
      "Epoch 95: 100%|██████████| 149/149 [00:00<00:00, 170.47batch/s]\n"
     ]
    },
    {
     "name": "stdout",
     "output_type": "stream",
     "text": [
      "Epoch 95 validation: Cross-entropy=0.04146357998251915, Accuracy=0.9809523820877075\n"
     ]
    },
    {
     "name": "stderr",
     "output_type": "stream",
     "text": [
      "Epoch 96: 100%|██████████| 149/149 [00:00<00:00, 169.69batch/s]\n"
     ]
    },
    {
     "name": "stdout",
     "output_type": "stream",
     "text": [
      "Epoch 96 validation: Cross-entropy=0.041363924741744995, Accuracy=0.9809523820877075\n"
     ]
    },
    {
     "name": "stderr",
     "output_type": "stream",
     "text": [
      "Epoch 97: 100%|██████████| 149/149 [00:00<00:00, 171.84batch/s]\n"
     ]
    },
    {
     "name": "stdout",
     "output_type": "stream",
     "text": [
      "Epoch 97 validation: Cross-entropy=0.041263844817876816, Accuracy=0.9809523820877075\n"
     ]
    },
    {
     "name": "stderr",
     "output_type": "stream",
     "text": [
      "Epoch 98: 100%|██████████| 149/149 [00:00<00:00, 171.65batch/s]\n"
     ]
    },
    {
     "name": "stdout",
     "output_type": "stream",
     "text": [
      "Epoch 98 validation: Cross-entropy=0.0412721261382103, Accuracy=0.9809523820877075\n"
     ]
    },
    {
     "name": "stderr",
     "output_type": "stream",
     "text": [
      "Epoch 99: 100%|██████████| 149/149 [00:00<00:00, 181.47batch/s]\n"
     ]
    },
    {
     "name": "stdout",
     "output_type": "stream",
     "text": [
      "Epoch 99 validation: Cross-entropy=0.04117735102772713, Accuracy=0.9809523820877075\n"
     ]
    },
    {
     "name": "stderr",
     "output_type": "stream",
     "text": [
      "Epoch 100: 100%|██████████| 149/149 [00:00<00:00, 173.04batch/s]\n"
     ]
    },
    {
     "name": "stdout",
     "output_type": "stream",
     "text": [
      "Epoch 100 validation: Cross-entropy=0.04107601195573807, Accuracy=0.9809523820877075\n"
     ]
    },
    {
     "name": "stderr",
     "output_type": "stream",
     "text": [
      "Epoch 101: 100%|██████████| 149/149 [00:00<00:00, 181.91batch/s]\n"
     ]
    },
    {
     "name": "stdout",
     "output_type": "stream",
     "text": [
      "Epoch 101 validation: Cross-entropy=0.04108709096908569, Accuracy=0.9809523820877075\n"
     ]
    },
    {
     "name": "stderr",
     "output_type": "stream",
     "text": [
      "Epoch 102: 100%|██████████| 149/149 [00:00<00:00, 176.11batch/s]\n"
     ]
    },
    {
     "name": "stdout",
     "output_type": "stream",
     "text": [
      "Epoch 102 validation: Cross-entropy=0.04099272936582565, Accuracy=0.9809523820877075\n"
     ]
    },
    {
     "name": "stderr",
     "output_type": "stream",
     "text": [
      "Epoch 103: 100%|██████████| 149/149 [00:00<00:00, 187.88batch/s]\n"
     ]
    },
    {
     "name": "stdout",
     "output_type": "stream",
     "text": [
      "Epoch 103 validation: Cross-entropy=0.040892343968153, Accuracy=0.9809523820877075\n"
     ]
    },
    {
     "name": "stderr",
     "output_type": "stream",
     "text": [
      "Epoch 104: 100%|██████████| 149/149 [00:00<00:00, 189.43batch/s]\n"
     ]
    },
    {
     "name": "stdout",
     "output_type": "stream",
     "text": [
      "Epoch 104 validation: Cross-entropy=0.040905024856328964, Accuracy=0.9809523820877075\n"
     ]
    },
    {
     "name": "stderr",
     "output_type": "stream",
     "text": [
      "Epoch 105: 100%|██████████| 149/149 [00:00<00:00, 200.79batch/s]\n"
     ]
    },
    {
     "name": "stdout",
     "output_type": "stream",
     "text": [
      "Epoch 105 validation: Cross-entropy=0.040811534970998764, Accuracy=0.9809523820877075\n"
     ]
    },
    {
     "name": "stderr",
     "output_type": "stream",
     "text": [
      "Epoch 106: 100%|██████████| 149/149 [00:00<00:00, 202.98batch/s]\n"
     ]
    },
    {
     "name": "stdout",
     "output_type": "stream",
     "text": [
      "Epoch 106 validation: Cross-entropy=0.0408189631998539, Accuracy=0.9809523820877075\n"
     ]
    },
    {
     "name": "stderr",
     "output_type": "stream",
     "text": [
      "Epoch 107: 100%|██████████| 149/149 [00:00<00:00, 188.12batch/s]\n"
     ]
    },
    {
     "name": "stdout",
     "output_type": "stream",
     "text": [
      "Epoch 107 validation: Cross-entropy=0.04053105413913727, Accuracy=0.9809523820877075\n"
     ]
    },
    {
     "name": "stderr",
     "output_type": "stream",
     "text": [
      "Epoch 108: 100%|██████████| 149/149 [00:00<00:00, 199.98batch/s]\n"
     ]
    },
    {
     "name": "stdout",
     "output_type": "stream",
     "text": [
      "Epoch 108 validation: Cross-entropy=0.04068896919488907, Accuracy=0.9809523820877075\n"
     ]
    },
    {
     "name": "stderr",
     "output_type": "stream",
     "text": [
      "Epoch 109: 100%|██████████| 149/149 [00:00<00:00, 195.52batch/s]\n"
     ]
    },
    {
     "name": "stdout",
     "output_type": "stream",
     "text": [
      "Epoch 109 validation: Cross-entropy=0.04053068533539772, Accuracy=0.9809523820877075\n"
     ]
    },
    {
     "name": "stderr",
     "output_type": "stream",
     "text": [
      "Epoch 110: 100%|██████████| 149/149 [00:00<00:00, 197.60batch/s]\n"
     ]
    },
    {
     "name": "stdout",
     "output_type": "stream",
     "text": [
      "Epoch 110 validation: Cross-entropy=0.04041546583175659, Accuracy=0.9809523820877075\n"
     ]
    },
    {
     "name": "stderr",
     "output_type": "stream",
     "text": [
      "Epoch 111: 100%|██████████| 149/149 [00:00<00:00, 196.04batch/s]\n"
     ]
    },
    {
     "name": "stdout",
     "output_type": "stream",
     "text": [
      "Epoch 111 validation: Cross-entropy=0.04049284756183624, Accuracy=0.9809523820877075\n"
     ]
    },
    {
     "name": "stderr",
     "output_type": "stream",
     "text": [
      "Epoch 112: 100%|██████████| 149/149 [00:00<00:00, 181.78batch/s]\n"
     ]
    },
    {
     "name": "stdout",
     "output_type": "stream",
     "text": [
      "Epoch 112 validation: Cross-entropy=0.04026645049452782, Accuracy=0.9809523820877075\n"
     ]
    },
    {
     "name": "stderr",
     "output_type": "stream",
     "text": [
      "Epoch 113: 100%|██████████| 149/149 [00:01<00:00, 140.88batch/s]\n"
     ]
    },
    {
     "name": "stdout",
     "output_type": "stream",
     "text": [
      "Epoch 113 validation: Cross-entropy=0.040397144854068756, Accuracy=0.9809523820877075\n"
     ]
    },
    {
     "name": "stderr",
     "output_type": "stream",
     "text": [
      "Epoch 114: 100%|██████████| 149/149 [00:00<00:00, 151.88batch/s]\n"
     ]
    },
    {
     "name": "stdout",
     "output_type": "stream",
     "text": [
      "Epoch 114 validation: Cross-entropy=0.040251072496175766, Accuracy=0.9809523820877075\n"
     ]
    },
    {
     "name": "stderr",
     "output_type": "stream",
     "text": [
      "Epoch 115: 100%|██████████| 149/149 [00:00<00:00, 176.53batch/s]\n"
     ]
    },
    {
     "name": "stdout",
     "output_type": "stream",
     "text": [
      "Epoch 115 validation: Cross-entropy=0.04013306647539139, Accuracy=0.9809523820877075\n"
     ]
    },
    {
     "name": "stderr",
     "output_type": "stream",
     "text": [
      "Epoch 116: 100%|██████████| 149/149 [00:00<00:00, 170.64batch/s]\n"
     ]
    },
    {
     "name": "stdout",
     "output_type": "stream",
     "text": [
      "Epoch 116 validation: Cross-entropy=0.040211886167526245, Accuracy=0.9809523820877075\n"
     ]
    },
    {
     "name": "stderr",
     "output_type": "stream",
     "text": [
      "Epoch 117: 100%|██████████| 149/149 [00:00<00:00, 179.94batch/s]\n"
     ]
    },
    {
     "name": "stdout",
     "output_type": "stream",
     "text": [
      "Epoch 117 validation: Cross-entropy=0.04009301960468292, Accuracy=0.9809523820877075\n"
     ]
    },
    {
     "name": "stderr",
     "output_type": "stream",
     "text": [
      "Epoch 118: 100%|██████████| 149/149 [00:00<00:00, 189.55batch/s]\n"
     ]
    },
    {
     "name": "stdout",
     "output_type": "stream",
     "text": [
      "Epoch 118 validation: Cross-entropy=0.039964184165000916, Accuracy=0.9809523820877075\n"
     ]
    },
    {
     "name": "stderr",
     "output_type": "stream",
     "text": [
      "Epoch 119: 100%|██████████| 149/149 [00:00<00:00, 179.07batch/s]\n"
     ]
    },
    {
     "name": "stdout",
     "output_type": "stream",
     "text": [
      "Epoch 119 validation: Cross-entropy=0.04004902020096779, Accuracy=0.9809523820877075\n"
     ]
    },
    {
     "name": "stderr",
     "output_type": "stream",
     "text": [
      "Epoch 120: 100%|██████████| 149/149 [00:00<00:00, 183.94batch/s]\n"
     ]
    },
    {
     "name": "stdout",
     "output_type": "stream",
     "text": [
      "Epoch 120 validation: Cross-entropy=0.03992852568626404, Accuracy=0.9809523820877075\n"
     ]
    },
    {
     "name": "stderr",
     "output_type": "stream",
     "text": [
      "Epoch 121: 100%|██████████| 149/149 [00:00<00:00, 175.49batch/s]\n"
     ]
    },
    {
     "name": "stdout",
     "output_type": "stream",
     "text": [
      "Epoch 121 validation: Cross-entropy=0.039802730083465576, Accuracy=0.9809523820877075\n"
     ]
    },
    {
     "name": "stderr",
     "output_type": "stream",
     "text": [
      "Epoch 122: 100%|██████████| 149/149 [00:00<00:00, 163.75batch/s]\n"
     ]
    },
    {
     "name": "stdout",
     "output_type": "stream",
     "text": [
      "Epoch 122 validation: Cross-entropy=0.039886828511953354, Accuracy=0.9809523820877075\n"
     ]
    },
    {
     "name": "stderr",
     "output_type": "stream",
     "text": [
      "Epoch 123: 100%|██████████| 149/149 [00:00<00:00, 252.52batch/s]\n"
     ]
    },
    {
     "name": "stdout",
     "output_type": "stream",
     "text": [
      "Epoch 123 validation: Cross-entropy=0.039768241345882416, Accuracy=0.9809523820877075\n"
     ]
    },
    {
     "name": "stderr",
     "output_type": "stream",
     "text": [
      "Epoch 124: 100%|██████████| 149/149 [00:00<00:00, 196.55batch/s]\n"
     ]
    },
    {
     "name": "stdout",
     "output_type": "stream",
     "text": [
      "Epoch 124 validation: Cross-entropy=0.039643287658691406, Accuracy=0.9809523820877075\n"
     ]
    },
    {
     "name": "stderr",
     "output_type": "stream",
     "text": [
      "Epoch 125: 100%|██████████| 149/149 [00:00<00:00, 202.43batch/s]\n"
     ]
    },
    {
     "name": "stdout",
     "output_type": "stream",
     "text": [
      "Epoch 125 validation: Cross-entropy=0.03972822055220604, Accuracy=0.9809523820877075\n"
     ]
    },
    {
     "name": "stderr",
     "output_type": "stream",
     "text": [
      "Epoch 126: 100%|██████████| 149/149 [00:00<00:00, 200.79batch/s]\n"
     ]
    },
    {
     "name": "stdout",
     "output_type": "stream",
     "text": [
      "Epoch 126 validation: Cross-entropy=0.03961046785116196, Accuracy=0.9809523820877075\n"
     ]
    },
    {
     "name": "stderr",
     "output_type": "stream",
     "text": [
      "Epoch 127: 100%|██████████| 149/149 [00:00<00:00, 205.35batch/s]\n"
     ]
    },
    {
     "name": "stdout",
     "output_type": "stream",
     "text": [
      "Epoch 127 validation: Cross-entropy=0.03948723152279854, Accuracy=0.9809523820877075\n"
     ]
    },
    {
     "name": "stderr",
     "output_type": "stream",
     "text": [
      "Epoch 128: 100%|██████████| 149/149 [00:00<00:00, 201.88batch/s]\n"
     ]
    },
    {
     "name": "stdout",
     "output_type": "stream",
     "text": [
      "Epoch 128 validation: Cross-entropy=0.03957204893231392, Accuracy=0.9809523820877075\n"
     ]
    },
    {
     "name": "stderr",
     "output_type": "stream",
     "text": [
      "Epoch 129: 100%|██████████| 149/149 [00:00<00:00, 198.92batch/s]\n"
     ]
    },
    {
     "name": "stdout",
     "output_type": "stream",
     "text": [
      "Epoch 129 validation: Cross-entropy=0.03945613279938698, Accuracy=0.9809523820877075\n"
     ]
    },
    {
     "name": "stderr",
     "output_type": "stream",
     "text": [
      "Epoch 130: 100%|██████████| 149/149 [00:00<00:00, 194.50batch/s]\n"
     ]
    },
    {
     "name": "stdout",
     "output_type": "stream",
     "text": [
      "Epoch 130 validation: Cross-entropy=0.03933347389101982, Accuracy=0.9809523820877075\n"
     ]
    },
    {
     "name": "stderr",
     "output_type": "stream",
     "text": [
      "Epoch 131: 100%|██████████| 149/149 [00:00<00:00, 197.34batch/s]\n"
     ]
    },
    {
     "name": "stdout",
     "output_type": "stream",
     "text": [
      "Epoch 131 validation: Cross-entropy=0.03941906988620758, Accuracy=0.9809523820877075\n"
     ]
    },
    {
     "name": "stderr",
     "output_type": "stream",
     "text": [
      "Epoch 132: 100%|██████████| 149/149 [00:00<00:00, 192.24batch/s]\n"
     ]
    },
    {
     "name": "stdout",
     "output_type": "stream",
     "text": [
      "Epoch 132 validation: Cross-entropy=0.03930443525314331, Accuracy=0.9809523820877075\n"
     ]
    },
    {
     "name": "stderr",
     "output_type": "stream",
     "text": [
      "Epoch 133: 100%|██████████| 149/149 [00:00<00:00, 185.54batch/s]\n"
     ]
    },
    {
     "name": "stdout",
     "output_type": "stream",
     "text": [
      "Epoch 133 validation: Cross-entropy=0.0391826406121254, Accuracy=0.9809523820877075\n"
     ]
    },
    {
     "name": "stderr",
     "output_type": "stream",
     "text": [
      "Epoch 134: 100%|██████████| 149/149 [00:00<00:00, 168.14batch/s]\n"
     ]
    },
    {
     "name": "stdout",
     "output_type": "stream",
     "text": [
      "Epoch 134 validation: Cross-entropy=0.03926930949091911, Accuracy=0.9809523820877075\n"
     ]
    },
    {
     "name": "stderr",
     "output_type": "stream",
     "text": [
      "Epoch 135: 100%|██████████| 149/149 [00:00<00:00, 166.28batch/s]\n"
     ]
    },
    {
     "name": "stdout",
     "output_type": "stream",
     "text": [
      "Epoch 135 validation: Cross-entropy=0.03915511444211006, Accuracy=0.9809523820877075\n"
     ]
    },
    {
     "name": "stderr",
     "output_type": "stream",
     "text": [
      "Epoch 136: 100%|██████████| 149/149 [00:00<00:00, 170.86batch/s]\n"
     ]
    },
    {
     "name": "stdout",
     "output_type": "stream",
     "text": [
      "Epoch 136 validation: Cross-entropy=0.03903490677475929, Accuracy=0.9809523820877075\n"
     ]
    },
    {
     "name": "stderr",
     "output_type": "stream",
     "text": [
      "Epoch 137: 100%|██████████| 149/149 [00:00<00:00, 173.04batch/s]\n"
     ]
    },
    {
     "name": "stdout",
     "output_type": "stream",
     "text": [
      "Epoch 137 validation: Cross-entropy=0.039121683686971664, Accuracy=0.9809523820877075\n"
     ]
    },
    {
     "name": "stderr",
     "output_type": "stream",
     "text": [
      "Epoch 138: 100%|██████████| 149/149 [00:00<00:00, 175.69batch/s]\n"
     ]
    },
    {
     "name": "stdout",
     "output_type": "stream",
     "text": [
      "Epoch 138 validation: Cross-entropy=0.03899046406149864, Accuracy=0.9809523820877075\n"
     ]
    },
    {
     "name": "stderr",
     "output_type": "stream",
     "text": [
      "Epoch 139: 100%|██████████| 149/149 [00:00<00:00, 177.37batch/s]\n"
     ]
    },
    {
     "name": "stdout",
     "output_type": "stream",
     "text": [
      "Epoch 139 validation: Cross-entropy=0.03889220952987671, Accuracy=0.9809523820877075\n"
     ]
    },
    {
     "name": "stderr",
     "output_type": "stream",
     "text": [
      "Epoch 140: 100%|██████████| 149/149 [00:00<00:00, 176.62batch/s]\n"
     ]
    },
    {
     "name": "stdout",
     "output_type": "stream",
     "text": [
      "Epoch 140 validation: Cross-entropy=0.038974784314632416, Accuracy=0.9809523820877075\n"
     ]
    },
    {
     "name": "stderr",
     "output_type": "stream",
     "text": [
      "Epoch 141: 100%|██████████| 149/149 [00:00<00:00, 179.72batch/s]\n"
     ]
    },
    {
     "name": "stdout",
     "output_type": "stream",
     "text": [
      "Epoch 141 validation: Cross-entropy=0.038848988711833954, Accuracy=0.9809523820877075\n"
     ]
    },
    {
     "name": "stderr",
     "output_type": "stream",
     "text": [
      "Epoch 142: 100%|██████████| 149/149 [00:00<00:00, 184.62batch/s]\n"
     ]
    },
    {
     "name": "stdout",
     "output_type": "stream",
     "text": [
      "Epoch 142 validation: Cross-entropy=0.038839925080537796, Accuracy=0.9809523820877075\n"
     ]
    },
    {
     "name": "stderr",
     "output_type": "stream",
     "text": [
      "Epoch 143: 100%|██████████| 149/149 [00:00<00:00, 189.55batch/s]\n"
     ]
    },
    {
     "name": "stdout",
     "output_type": "stream",
     "text": [
      "Epoch 143 validation: Cross-entropy=0.03867428004741669, Accuracy=0.9809523820877075\n"
     ]
    },
    {
     "name": "stderr",
     "output_type": "stream",
     "text": [
      "Epoch 144: 100%|██████████| 149/149 [00:00<00:00, 205.79batch/s]\n"
     ]
    },
    {
     "name": "stdout",
     "output_type": "stream",
     "text": [
      "Epoch 144 validation: Cross-entropy=0.038796983659267426, Accuracy=0.9809523820877075\n"
     ]
    },
    {
     "name": "stderr",
     "output_type": "stream",
     "text": [
      "Epoch 145: 100%|██████████| 149/149 [00:00<00:00, 195.78batch/s]\n"
     ]
    },
    {
     "name": "stdout",
     "output_type": "stream",
     "text": [
      "Epoch 145 validation: Cross-entropy=0.03865808621048927, Accuracy=0.9809523820877075\n"
     ]
    },
    {
     "name": "stderr",
     "output_type": "stream",
     "text": [
      "Epoch 146: 100%|██████████| 149/149 [00:00<00:00, 198.12batch/s]\n"
     ]
    },
    {
     "name": "stdout",
     "output_type": "stream",
     "text": [
      "Epoch 146 validation: Cross-entropy=0.03865658491849899, Accuracy=0.9809523820877075\n"
     ]
    },
    {
     "name": "stderr",
     "output_type": "stream",
     "text": [
      "Epoch 147: 100%|██████████| 149/149 [00:00<00:00, 199.45batch/s]\n"
     ]
    },
    {
     "name": "stdout",
     "output_type": "stream",
     "text": [
      "Epoch 147 validation: Cross-entropy=0.038488954305648804, Accuracy=0.9809523820877075\n"
     ]
    },
    {
     "name": "stderr",
     "output_type": "stream",
     "text": [
      "Epoch 148: 100%|██████████| 149/149 [00:00<00:00, 203.81batch/s]\n"
     ]
    },
    {
     "name": "stdout",
     "output_type": "stream",
     "text": [
      "Epoch 148 validation: Cross-entropy=0.038602203130722046, Accuracy=0.9809523820877075\n"
     ]
    },
    {
     "name": "stderr",
     "output_type": "stream",
     "text": [
      "Epoch 149: 100%|██████████| 149/149 [00:00<00:00, 195.52batch/s]\n"
     ]
    },
    {
     "name": "stdout",
     "output_type": "stream",
     "text": [
      "Epoch 149 validation: Cross-entropy=0.038481298834085464, Accuracy=0.9809523820877075\n"
     ]
    },
    {
     "name": "stderr",
     "output_type": "stream",
     "text": [
      "Epoch 150: 100%|██████████| 149/149 [00:00<00:00, 196.81batch/s]\n"
     ]
    },
    {
     "name": "stdout",
     "output_type": "stream",
     "text": [
      "Epoch 150 validation: Cross-entropy=0.038472697138786316, Accuracy=0.9809523820877075\n"
     ]
    },
    {
     "name": "stderr",
     "output_type": "stream",
     "text": [
      "Epoch 151: 100%|██████████| 149/149 [00:00<00:00, 190.77batch/s]\n"
     ]
    },
    {
     "name": "stdout",
     "output_type": "stream",
     "text": [
      "Epoch 151 validation: Cross-entropy=0.03830968588590622, Accuracy=0.9809523820877075\n"
     ]
    },
    {
     "name": "stderr",
     "output_type": "stream",
     "text": [
      "Epoch 152: 100%|██████████| 149/149 [00:00<00:00, 190.04batch/s]\n"
     ]
    },
    {
     "name": "stdout",
     "output_type": "stream",
     "text": [
      "Epoch 152 validation: Cross-entropy=0.038422081619501114, Accuracy=0.9809523820877075\n"
     ]
    },
    {
     "name": "stderr",
     "output_type": "stream",
     "text": [
      "Epoch 153: 100%|██████████| 149/149 [00:00<00:00, 192.99batch/s]\n"
     ]
    },
    {
     "name": "stdout",
     "output_type": "stream",
     "text": [
      "Epoch 153 validation: Cross-entropy=0.03830307722091675, Accuracy=0.9809523820877075\n"
     ]
    },
    {
     "name": "stderr",
     "output_type": "stream",
     "text": [
      "Epoch 154: 100%|██████████| 149/149 [00:00<00:00, 161.91batch/s]\n"
     ]
    },
    {
     "name": "stdout",
     "output_type": "stream",
     "text": [
      "Epoch 154 validation: Cross-entropy=0.03829488158226013, Accuracy=0.9809523820877075\n"
     ]
    },
    {
     "name": "stderr",
     "output_type": "stream",
     "text": [
      "Epoch 155: 100%|██████████| 149/149 [00:00<00:00, 179.17batch/s]\n"
     ]
    },
    {
     "name": "stdout",
     "output_type": "stream",
     "text": [
      "Epoch 155 validation: Cross-entropy=0.03822992742061615, Accuracy=0.9809523820877075\n"
     ]
    },
    {
     "name": "stderr",
     "output_type": "stream",
     "text": [
      "Epoch 156: 100%|██████████| 149/149 [00:00<00:00, 175.28batch/s]\n"
     ]
    },
    {
     "name": "stdout",
     "output_type": "stream",
     "text": [
      "Epoch 156 validation: Cross-entropy=0.03809649497270584, Accuracy=0.9809523820877075\n"
     ]
    },
    {
     "name": "stderr",
     "output_type": "stream",
     "text": [
      "Epoch 157: 100%|██████████| 149/149 [00:00<00:00, 189.18batch/s]\n"
     ]
    },
    {
     "name": "stdout",
     "output_type": "stream",
     "text": [
      "Epoch 157 validation: Cross-entropy=0.038201089948415756, Accuracy=0.9809523820877075\n"
     ]
    },
    {
     "name": "stderr",
     "output_type": "stream",
     "text": [
      "Epoch 158: 100%|██████████| 149/149 [00:00<00:00, 181.69batch/s]\n"
     ]
    },
    {
     "name": "stdout",
     "output_type": "stream",
     "text": [
      "Epoch 158 validation: Cross-entropy=0.0380827933549881, Accuracy=0.9809523820877075\n"
     ]
    },
    {
     "name": "stderr",
     "output_type": "stream",
     "text": [
      "Epoch 159: 100%|██████████| 149/149 [00:00<00:00, 187.64batch/s]\n"
     ]
    },
    {
     "name": "stdout",
     "output_type": "stream",
     "text": [
      "Epoch 159 validation: Cross-entropy=0.03807651996612549, Accuracy=0.9809523820877075\n"
     ]
    },
    {
     "name": "stderr",
     "output_type": "stream",
     "text": [
      "Epoch 160: 100%|██████████| 149/149 [00:00<00:00, 173.13batch/s]\n"
     ]
    },
    {
     "name": "stdout",
     "output_type": "stream",
     "text": [
      "Epoch 160 validation: Cross-entropy=0.03801707923412323, Accuracy=0.9809523820877075\n"
     ]
    },
    {
     "name": "stderr",
     "output_type": "stream",
     "text": [
      "Epoch 161: 100%|██████████| 149/149 [00:00<00:00, 180.37batch/s]\n"
     ]
    },
    {
     "name": "stdout",
     "output_type": "stream",
     "text": [
      "Epoch 161 validation: Cross-entropy=0.03788289427757263, Accuracy=0.9809523820877075\n"
     ]
    },
    {
     "name": "stderr",
     "output_type": "stream",
     "text": [
      "Epoch 162: 100%|██████████| 149/149 [00:00<00:00, 172.64batch/s]\n"
     ]
    },
    {
     "name": "stdout",
     "output_type": "stream",
     "text": [
      "Epoch 162 validation: Cross-entropy=0.037984512746334076, Accuracy=0.9809523820877075\n"
     ]
    },
    {
     "name": "stderr",
     "output_type": "stream",
     "text": [
      "Epoch 163: 100%|██████████| 149/149 [00:00<00:00, 189.07batch/s]\n"
     ]
    },
    {
     "name": "stdout",
     "output_type": "stream",
     "text": [
      "Epoch 163 validation: Cross-entropy=0.037874311208724976, Accuracy=0.9809523820877075\n"
     ]
    },
    {
     "name": "stderr",
     "output_type": "stream",
     "text": [
      "Epoch 164: 100%|██████████| 149/149 [00:00<00:00, 203.26batch/s]\n"
     ]
    },
    {
     "name": "stdout",
     "output_type": "stream",
     "text": [
      "Epoch 164 validation: Cross-entropy=0.03786584362387657, Accuracy=0.9809523820877075\n"
     ]
    },
    {
     "name": "stderr",
     "output_type": "stream",
     "text": [
      "Epoch 165: 100%|██████████| 149/149 [00:00<00:00, 192.24batch/s]\n"
     ]
    },
    {
     "name": "stdout",
     "output_type": "stream",
     "text": [
      "Epoch 165 validation: Cross-entropy=0.03780898079276085, Accuracy=0.9809523820877075\n"
     ]
    },
    {
     "name": "stderr",
     "output_type": "stream",
     "text": [
      "Epoch 166: 100%|██████████| 149/149 [00:00<00:00, 173.71batch/s]\n"
     ]
    },
    {
     "name": "stdout",
     "output_type": "stream",
     "text": [
      "Epoch 166 validation: Cross-entropy=0.037775881588459015, Accuracy=0.9809523820877075\n"
     ]
    },
    {
     "name": "stderr",
     "output_type": "stream",
     "text": [
      "Epoch 167: 100%|██████████| 149/149 [00:00<00:00, 185.08batch/s]\n"
     ]
    },
    {
     "name": "stdout",
     "output_type": "stream",
     "text": [
      "Epoch 167 validation: Cross-entropy=0.03763189911842346, Accuracy=0.9809523820877075\n"
     ]
    },
    {
     "name": "stderr",
     "output_type": "stream",
     "text": [
      "Epoch 168: 100%|██████████| 149/149 [00:00<00:00, 204.93batch/s]\n"
     ]
    },
    {
     "name": "stdout",
     "output_type": "stream",
     "text": [
      "Epoch 168 validation: Cross-entropy=0.037737179547548294, Accuracy=0.9809523820877075\n"
     ]
    },
    {
     "name": "stderr",
     "output_type": "stream",
     "text": [
      "Epoch 169: 100%|██████████| 149/149 [00:00<00:00, 205.50batch/s]\n"
     ]
    },
    {
     "name": "stdout",
     "output_type": "stream",
     "text": [
      "Epoch 169 validation: Cross-entropy=0.03762688487768173, Accuracy=0.9809523820877075\n"
     ]
    },
    {
     "name": "stderr",
     "output_type": "stream",
     "text": [
      "Epoch 170: 100%|██████████| 149/149 [00:00<00:00, 199.18batch/s]\n"
     ]
    },
    {
     "name": "stdout",
     "output_type": "stream",
     "text": [
      "Epoch 170 validation: Cross-entropy=0.037620414048433304, Accuracy=0.9809523820877075\n"
     ]
    },
    {
     "name": "stderr",
     "output_type": "stream",
     "text": [
      "Epoch 171: 100%|██████████| 149/149 [00:00<00:00, 203.81batch/s]\n"
     ]
    },
    {
     "name": "stdout",
     "output_type": "stream",
     "text": [
      "Epoch 171 validation: Cross-entropy=0.03756477311253548, Accuracy=0.9809523820877075\n"
     ]
    },
    {
     "name": "stderr",
     "output_type": "stream",
     "text": [
      "Epoch 172: 100%|██████████| 149/149 [00:00<00:00, 198.39batch/s]\n"
     ]
    },
    {
     "name": "stdout",
     "output_type": "stream",
     "text": [
      "Epoch 172 validation: Cross-entropy=0.03743318095803261, Accuracy=0.9809523820877075\n"
     ]
    },
    {
     "name": "stderr",
     "output_type": "stream",
     "text": [
      "Epoch 173: 100%|██████████| 149/149 [00:00<00:00, 188.83batch/s]\n"
     ]
    },
    {
     "name": "stdout",
     "output_type": "stream",
     "text": [
      "Epoch 173 validation: Cross-entropy=0.03753616288304329, Accuracy=0.9809523820877075\n"
     ]
    },
    {
     "name": "stderr",
     "output_type": "stream",
     "text": [
      "Epoch 174: 100%|██████████| 149/149 [00:00<00:00, 179.89batch/s]\n"
     ]
    },
    {
     "name": "stdout",
     "output_type": "stream",
     "text": [
      "Epoch 174 validation: Cross-entropy=0.03742875158786774, Accuracy=0.9809523820877075\n"
     ]
    },
    {
     "name": "stderr",
     "output_type": "stream",
     "text": [
      "Epoch 175: 100%|██████████| 149/149 [00:00<00:00, 184.39batch/s]\n"
     ]
    },
    {
     "name": "stdout",
     "output_type": "stream",
     "text": [
      "Epoch 175 validation: Cross-entropy=0.037422630935907364, Accuracy=0.9809523820877075\n"
     ]
    },
    {
     "name": "stderr",
     "output_type": "stream",
     "text": [
      "Epoch 176: 100%|██████████| 149/149 [00:00<00:00, 181.03batch/s]\n"
     ]
    },
    {
     "name": "stdout",
     "output_type": "stream",
     "text": [
      "Epoch 176 validation: Cross-entropy=0.03736451640725136, Accuracy=0.9809523820877075\n"
     ]
    },
    {
     "name": "stderr",
     "output_type": "stream",
     "text": [
      "Epoch 177: 100%|██████████| 149/149 [00:00<00:00, 188.59batch/s]\n"
     ]
    },
    {
     "name": "stdout",
     "output_type": "stream",
     "text": [
      "Epoch 177 validation: Cross-entropy=0.037335511296987534, Accuracy=0.9809523820877075\n"
     ]
    },
    {
     "name": "stderr",
     "output_type": "stream",
     "text": [
      "Epoch 178: 100%|██████████| 149/149 [00:00<00:00, 186.47batch/s]\n"
     ]
    },
    {
     "name": "stdout",
     "output_type": "stream",
     "text": [
      "Epoch 178 validation: Cross-entropy=0.037194084376096725, Accuracy=0.9904761910438538\n"
     ]
    },
    {
     "name": "stderr",
     "output_type": "stream",
     "text": [
      "Epoch 179: 100%|██████████| 149/149 [00:00<00:00, 182.47batch/s]\n"
     ]
    },
    {
     "name": "stdout",
     "output_type": "stream",
     "text": [
      "Epoch 179 validation: Cross-entropy=0.0373070165514946, Accuracy=0.9809523820877075\n"
     ]
    },
    {
     "name": "stderr",
     "output_type": "stream",
     "text": [
      "Epoch 180: 100%|██████████| 149/149 [00:00<00:00, 181.25batch/s]\n"
     ]
    },
    {
     "name": "stdout",
     "output_type": "stream",
     "text": [
      "Epoch 180 validation: Cross-entropy=0.03719276189804077, Accuracy=0.9904761910438538\n"
     ]
    },
    {
     "name": "stderr",
     "output_type": "stream",
     "text": [
      "Epoch 181: 100%|██████████| 149/149 [00:00<00:00, 175.07batch/s]\n"
     ]
    },
    {
     "name": "stdout",
     "output_type": "stream",
     "text": [
      "Epoch 181 validation: Cross-entropy=0.03719211742281914, Accuracy=0.9904761910438538\n"
     ]
    },
    {
     "name": "stderr",
     "output_type": "stream",
     "text": [
      "Epoch 182: 100%|██████████| 149/149 [00:00<00:00, 185.56batch/s]\n"
     ]
    },
    {
     "name": "stdout",
     "output_type": "stream",
     "text": [
      "Epoch 182 validation: Cross-entropy=0.03713710233569145, Accuracy=0.9904761910438538\n"
     ]
    },
    {
     "name": "stderr",
     "output_type": "stream",
     "text": [
      "Epoch 183: 100%|██████████| 149/149 [00:00<00:00, 198.65batch/s]\n"
     ]
    },
    {
     "name": "stdout",
     "output_type": "stream",
     "text": [
      "Epoch 183 validation: Cross-entropy=0.03710858151316643, Accuracy=0.9904761910438538\n"
     ]
    },
    {
     "name": "stderr",
     "output_type": "stream",
     "text": [
      "Epoch 184: 100%|██████████| 149/149 [00:00<00:00, 202.98batch/s]\n"
     ]
    },
    {
     "name": "stdout",
     "output_type": "stream",
     "text": [
      "Epoch 184 validation: Cross-entropy=0.03696901351213455, Accuracy=0.9904761910438538\n"
     ]
    },
    {
     "name": "stderr",
     "output_type": "stream",
     "text": [
      "Epoch 185: 100%|██████████| 149/149 [00:00<00:00, 195.39batch/s]\n"
     ]
    },
    {
     "name": "stdout",
     "output_type": "stream",
     "text": [
      "Epoch 185 validation: Cross-entropy=0.03707774356007576, Accuracy=0.9904761910438538\n"
     ]
    },
    {
     "name": "stderr",
     "output_type": "stream",
     "text": [
      "Epoch 186: 100%|██████████| 149/149 [00:00<00:00, 198.65batch/s]\n"
     ]
    },
    {
     "name": "stdout",
     "output_type": "stream",
     "text": [
      "Epoch 186 validation: Cross-entropy=0.03697109594941139, Accuracy=0.9904761910438538\n"
     ]
    },
    {
     "name": "stderr",
     "output_type": "stream",
     "text": [
      "Epoch 187: 100%|██████████| 149/149 [00:00<00:00, 196.81batch/s]\n"
     ]
    },
    {
     "name": "stdout",
     "output_type": "stream",
     "text": [
      "Epoch 187 validation: Cross-entropy=0.0369684100151062, Accuracy=0.9904761910438538\n"
     ]
    },
    {
     "name": "stderr",
     "output_type": "stream",
     "text": [
      "Epoch 188: 100%|██████████| 149/149 [00:00<00:00, 201.33batch/s]\n"
     ]
    },
    {
     "name": "stdout",
     "output_type": "stream",
     "text": [
      "Epoch 188 validation: Cross-entropy=0.03691618889570236, Accuracy=0.9904761910438538\n"
     ]
    },
    {
     "name": "stderr",
     "output_type": "stream",
     "text": [
      "Epoch 189: 100%|██████████| 149/149 [00:00<00:00, 198.38batch/s]\n"
     ]
    },
    {
     "name": "stdout",
     "output_type": "stream",
     "text": [
      "Epoch 189 validation: Cross-entropy=0.03688778728246689, Accuracy=0.9904761910438538\n"
     ]
    },
    {
     "name": "stderr",
     "output_type": "stream",
     "text": [
      "Epoch 190: 100%|██████████| 149/149 [00:00<00:00, 195.78batch/s]\n"
     ]
    },
    {
     "name": "stdout",
     "output_type": "stream",
     "text": [
      "Epoch 190 validation: Cross-entropy=0.03675037622451782, Accuracy=0.9904761910438538\n"
     ]
    },
    {
     "name": "stderr",
     "output_type": "stream",
     "text": [
      "Epoch 191: 100%|██████████| 149/149 [00:00<00:00, 202.15batch/s]\n"
     ]
    },
    {
     "name": "stdout",
     "output_type": "stream",
     "text": [
      "Epoch 191 validation: Cross-entropy=0.03686040639877319, Accuracy=0.9904761910438538\n"
     ]
    },
    {
     "name": "stderr",
     "output_type": "stream",
     "text": [
      "Epoch 192: 100%|██████████| 149/149 [00:00<00:00, 191.26batch/s]\n"
     ]
    },
    {
     "name": "stdout",
     "output_type": "stream",
     "text": [
      "Epoch 192 validation: Cross-entropy=0.03675497695803642, Accuracy=0.9904761910438538\n"
     ]
    },
    {
     "name": "stderr",
     "output_type": "stream",
     "text": [
      "Epoch 193: 100%|██████████| 149/149 [00:00<00:00, 185.77batch/s]\n"
     ]
    },
    {
     "name": "stdout",
     "output_type": "stream",
     "text": [
      "Epoch 193 validation: Cross-entropy=0.03675322234630585, Accuracy=0.9904761910438538\n"
     ]
    },
    {
     "name": "stderr",
     "output_type": "stream",
     "text": [
      "Epoch 194: 100%|██████████| 149/149 [00:00<00:00, 175.49batch/s]\n"
     ]
    },
    {
     "name": "stdout",
     "output_type": "stream",
     "text": [
      "Epoch 194 validation: Cross-entropy=0.03670221194624901, Accuracy=0.9904761910438538\n"
     ]
    },
    {
     "name": "stderr",
     "output_type": "stream",
     "text": [
      "Epoch 195: 100%|██████████| 149/149 [00:00<00:00, 176.32batch/s]\n"
     ]
    },
    {
     "name": "stdout",
     "output_type": "stream",
     "text": [
      "Epoch 195 validation: Cross-entropy=0.03667499125003815, Accuracy=0.9904761910438538\n"
     ]
    },
    {
     "name": "stderr",
     "output_type": "stream",
     "text": [
      "Epoch 196: 100%|██████████| 149/149 [00:00<00:00, 181.25batch/s]\n"
     ]
    },
    {
     "name": "stdout",
     "output_type": "stream",
     "text": [
      "Epoch 196 validation: Cross-entropy=0.036636900156736374, Accuracy=0.9904761910438538\n"
     ]
    },
    {
     "name": "stderr",
     "output_type": "stream",
     "text": [
      "Epoch 197: 100%|██████████| 149/149 [00:00<00:00, 182.13batch/s]\n"
     ]
    },
    {
     "name": "stdout",
     "output_type": "stream",
     "text": [
      "Epoch 197 validation: Cross-entropy=0.036503639072179794, Accuracy=0.9904761910438538\n"
     ]
    },
    {
     "name": "stderr",
     "output_type": "stream",
     "text": [
      "Epoch 198: 100%|██████████| 149/149 [00:00<00:00, 183.71batch/s]\n"
     ]
    },
    {
     "name": "stdout",
     "output_type": "stream",
     "text": [
      "Epoch 198 validation: Cross-entropy=0.03661549836397171, Accuracy=0.9904761910438538\n"
     ]
    },
    {
     "name": "stderr",
     "output_type": "stream",
     "text": [
      "Epoch 199: 100%|██████████| 149/149 [00:00<00:00, 184.39batch/s]"
     ]
    },
    {
     "name": "stdout",
     "output_type": "stream",
     "text": [
      "Epoch 199 validation: Cross-entropy=0.036511193960905075, Accuracy=0.9904761910438538\n"
     ]
    },
    {
     "name": "stderr",
     "output_type": "stream",
     "text": [
      "\n"
     ]
    }
   ],
   "source": [
    "n_epochs = 200\n",
    "batch_size = 5\n",
    "batches_per_epoch = len(x)\n",
    "\n",
    "for epoch in range(n_epochs):\n",
    "    with tqdm.trange(batches_per_epoch, unit='batch', mininterval=0) as bar:\n",
    "        bar.set_description(f'Epoch {epoch}')\n",
    "        for i in bar:\n",
    "            # Take a batch\n",
    "            start = i * batch_size\n",
    "            x_batch = x[start:start+batch_size]\n",
    "            y_batch = y[start:start+batch_size]\n",
    "            # forward pass\n",
    "            y_pred = model(x_batch)\n",
    "            loss = loss_fn(y_pred, y_batch)\n",
    "            # backward pass\n",
    "            optimizer.zero_grad()\n",
    "            loss.backward()\n",
    "            # update weights\n",
    "            optimizer.step()\n",
    "            \n",
    "    y_pred = model(x_test)\n",
    "    ce = loss_fn(y_pred, y_test)\n",
    "    acc = (torch.argmax(y_pred, 1) == torch.argmax(y_test, 1)).float().mean()\n",
    "    print(f'Epoch {epoch} validation: Cross-entropy={float(ce)}, Accuracy={float(acc)}')"
   ]
  },
  {
   "cell_type": "code",
   "execution_count": 17,
   "id": "c3fa6d48",
   "metadata": {},
   "outputs": [
    {
     "name": "stderr",
     "output_type": "stream",
     "text": [
      "Epoch 0: 100%|██████████| 149/149 [00:01<00:00, 119.86batch/s, acc=nan, loss=nan] \n"
     ]
    },
    {
     "name": "stdout",
     "output_type": "stream",
     "text": [
      "Epoch 0 validation: Cross-entropy=0.03653043881058693, Accuracy=0.9904761910438538\n"
     ]
    },
    {
     "name": "stderr",
     "output_type": "stream",
     "text": [
      "Epoch 1: 100%|██████████| 149/149 [00:01<00:00, 120.29batch/s, acc=nan, loss=nan]  \n"
     ]
    },
    {
     "name": "stdout",
     "output_type": "stream",
     "text": [
      "Epoch 1 validation: Cross-entropy=0.036467019468545914, Accuracy=0.9904761910438538\n"
     ]
    },
    {
     "name": "stderr",
     "output_type": "stream",
     "text": [
      "Epoch 2: 100%|██████████| 149/149 [00:01<00:00, 123.54batch/s, acc=nan, loss=nan]  \n"
     ]
    },
    {
     "name": "stdout",
     "output_type": "stream",
     "text": [
      "Epoch 2 validation: Cross-entropy=0.036444444209337234, Accuracy=0.9904761910438538\n"
     ]
    },
    {
     "name": "stderr",
     "output_type": "stream",
     "text": [
      "Epoch 3: 100%|██████████| 149/149 [00:01<00:00, 115.49batch/s, acc=nan, loss=nan] \n"
     ]
    },
    {
     "name": "stdout",
     "output_type": "stream",
     "text": [
      "Epoch 3 validation: Cross-entropy=0.0364001989364624, Accuracy=0.9904761910438538\n"
     ]
    },
    {
     "name": "stderr",
     "output_type": "stream",
     "text": [
      "Epoch 4: 100%|██████████| 149/149 [00:01<00:00, 113.64batch/s, acc=nan, loss=nan]  \n"
     ]
    },
    {
     "name": "stdout",
     "output_type": "stream",
     "text": [
      "Epoch 4 validation: Cross-entropy=0.036272499710321426, Accuracy=0.9904761910438538\n"
     ]
    },
    {
     "name": "stderr",
     "output_type": "stream",
     "text": [
      "Epoch 5: 100%|██████████| 149/149 [00:01<00:00, 104.63batch/s, acc=nan, loss=nan]  \n"
     ]
    },
    {
     "name": "stdout",
     "output_type": "stream",
     "text": [
      "Epoch 5 validation: Cross-entropy=0.03638201579451561, Accuracy=0.9904761910438538\n"
     ]
    },
    {
     "name": "stderr",
     "output_type": "stream",
     "text": [
      "Epoch 6: 100%|██████████| 149/149 [00:01<00:00, 87.28batch/s, acc=nan, loss=nan]  \n"
     ]
    },
    {
     "name": "stdout",
     "output_type": "stream",
     "text": [
      "Epoch 6 validation: Cross-entropy=0.036279380321502686, Accuracy=0.9904761910438538\n"
     ]
    },
    {
     "name": "stderr",
     "output_type": "stream",
     "text": [
      "Epoch 7: 100%|██████████| 149/149 [00:01<00:00, 88.24batch/s, acc=nan, loss=nan]   \n"
     ]
    },
    {
     "name": "stdout",
     "output_type": "stream",
     "text": [
      "Epoch 7 validation: Cross-entropy=0.036279402673244476, Accuracy=0.9904761910438538\n"
     ]
    },
    {
     "name": "stderr",
     "output_type": "stream",
     "text": [
      "Epoch 8: 100%|██████████| 149/149 [00:01<00:00, 112.78batch/s, acc=nan, loss=nan] \n"
     ]
    },
    {
     "name": "stdout",
     "output_type": "stream",
     "text": [
      "Epoch 8 validation: Cross-entropy=0.03622738644480705, Accuracy=0.9904761910438538\n"
     ]
    },
    {
     "name": "stderr",
     "output_type": "stream",
     "text": [
      "Epoch 9: 100%|██████████| 149/149 [00:01<00:00, 138.34batch/s, acc=nan, loss=nan]  \n"
     ]
    },
    {
     "name": "stdout",
     "output_type": "stream",
     "text": [
      "Epoch 9 validation: Cross-entropy=0.03620348498225212, Accuracy=0.9904761910438538\n"
     ]
    },
    {
     "name": "stderr",
     "output_type": "stream",
     "text": [
      "Epoch 10: 100%|██████████| 149/149 [00:01<00:00, 132.67batch/s, acc=nan, loss=nan]  \n"
     ]
    },
    {
     "name": "stdout",
     "output_type": "stream",
     "text": [
      "Epoch 10 validation: Cross-entropy=0.03616669028997421, Accuracy=0.9904761910438538\n"
     ]
    },
    {
     "name": "stderr",
     "output_type": "stream",
     "text": [
      "Epoch 11: 100%|██████████| 149/149 [00:01<00:00, 136.31batch/s, acc=nan, loss=nan]  \n"
     ]
    },
    {
     "name": "stdout",
     "output_type": "stream",
     "text": [
      "Epoch 11 validation: Cross-entropy=0.03613642603158951, Accuracy=0.9904761910438538\n"
     ]
    },
    {
     "name": "stderr",
     "output_type": "stream",
     "text": [
      "Epoch 12: 100%|██████████| 149/149 [00:01<00:00, 140.69batch/s, acc=nan, loss=nan]  \n"
     ]
    },
    {
     "name": "stdout",
     "output_type": "stream",
     "text": [
      "Epoch 12 validation: Cross-entropy=0.0361032634973526, Accuracy=0.9904761910438538\n"
     ]
    },
    {
     "name": "stderr",
     "output_type": "stream",
     "text": [
      "Epoch 13: 100%|██████████| 149/149 [00:01<00:00, 135.20batch/s, acc=nan, loss=nan]  \n"
     ]
    },
    {
     "name": "stdout",
     "output_type": "stream",
     "text": [
      "Epoch 13 validation: Cross-entropy=0.03597523272037506, Accuracy=0.9904761910438538\n"
     ]
    },
    {
     "name": "stderr",
     "output_type": "stream",
     "text": [
      "Epoch 14: 100%|██████████| 149/149 [00:01<00:00, 118.43batch/s, acc=nan, loss=nan]  \n"
     ]
    },
    {
     "name": "stdout",
     "output_type": "stream",
     "text": [
      "Epoch 14 validation: Cross-entropy=0.03608780726790428, Accuracy=0.9904761910438538\n"
     ]
    },
    {
     "name": "stderr",
     "output_type": "stream",
     "text": [
      "Epoch 15: 100%|██████████| 149/149 [00:01<00:00, 135.94batch/s, acc=nan, loss=nan]  \n"
     ]
    },
    {
     "name": "stdout",
     "output_type": "stream",
     "text": [
      "Epoch 15 validation: Cross-entropy=0.03598412498831749, Accuracy=0.9904761910438538\n"
     ]
    },
    {
     "name": "stderr",
     "output_type": "stream",
     "text": [
      "Epoch 16: 100%|██████████| 149/149 [00:01<00:00, 119.67batch/s, acc=nan, loss=nan]  \n"
     ]
    },
    {
     "name": "stdout",
     "output_type": "stream",
     "text": [
      "Epoch 16 validation: Cross-entropy=0.03598733991384506, Accuracy=0.9904761910438538\n"
     ]
    },
    {
     "name": "stderr",
     "output_type": "stream",
     "text": [
      "Epoch 17: 100%|██████████| 149/149 [00:01<00:00, 137.44batch/s, acc=nan, loss=nan]  \n"
     ]
    },
    {
     "name": "stdout",
     "output_type": "stream",
     "text": [
      "Epoch 17 validation: Cross-entropy=0.03593943268060684, Accuracy=0.9904761910438538\n"
     ]
    },
    {
     "name": "stderr",
     "output_type": "stream",
     "text": [
      "Epoch 18: 100%|██████████| 149/149 [00:01<00:00, 139.92batch/s, acc=nan, loss=nan]  \n"
     ]
    },
    {
     "name": "stdout",
     "output_type": "stream",
     "text": [
      "Epoch 18 validation: Cross-entropy=0.035916414111852646, Accuracy=0.9904761910438538\n"
     ]
    },
    {
     "name": "stderr",
     "output_type": "stream",
     "text": [
      "Epoch 19: 100%|██████████| 149/149 [00:01<00:00, 119.09batch/s, acc=nan, loss=nan]  \n"
     ]
    },
    {
     "name": "stdout",
     "output_type": "stream",
     "text": [
      "Epoch 19 validation: Cross-entropy=0.035881947726011276, Accuracy=0.9904761910438538\n"
     ]
    },
    {
     "name": "stderr",
     "output_type": "stream",
     "text": [
      "Epoch 20: 100%|██████████| 149/149 [00:01<00:00, 120.83batch/s, acc=nan, loss=nan]  \n"
     ]
    },
    {
     "name": "stdout",
     "output_type": "stream",
     "text": [
      "Epoch 20 validation: Cross-entropy=0.03585318103432655, Accuracy=0.9904761910438538\n"
     ]
    },
    {
     "name": "stderr",
     "output_type": "stream",
     "text": [
      "Epoch 21: 100%|██████████| 149/149 [00:01<00:00, 140.29batch/s, acc=nan, loss=nan]  \n"
     ]
    },
    {
     "name": "stdout",
     "output_type": "stream",
     "text": [
      "Epoch 21 validation: Cross-entropy=0.03582170233130455, Accuracy=0.9904761910438538\n"
     ]
    },
    {
     "name": "stderr",
     "output_type": "stream",
     "text": [
      "Epoch 22: 100%|██████████| 149/149 [00:01<00:00, 127.01batch/s, acc=nan, loss=nan]  \n"
     ]
    },
    {
     "name": "stdout",
     "output_type": "stream",
     "text": [
      "Epoch 22 validation: Cross-entropy=0.035792093724012375, Accuracy=0.9904761910438538\n"
     ]
    },
    {
     "name": "stderr",
     "output_type": "stream",
     "text": [
      "Epoch 23: 100%|██████████| 149/149 [00:01<00:00, 139.76batch/s, acc=nan, loss=nan]  \n"
     ]
    },
    {
     "name": "stdout",
     "output_type": "stream",
     "text": [
      "Epoch 23 validation: Cross-entropy=0.03576153516769409, Accuracy=0.9904761910438538\n"
     ]
    },
    {
     "name": "stderr",
     "output_type": "stream",
     "text": [
      "Epoch 24: 100%|██████████| 149/149 [00:01<00:00, 134.71batch/s, acc=nan, loss=nan]  \n"
     ]
    },
    {
     "name": "stdout",
     "output_type": "stream",
     "text": [
      "Epoch 24 validation: Cross-entropy=0.03573176637291908, Accuracy=0.9904761910438538\n"
     ]
    },
    {
     "name": "stderr",
     "output_type": "stream",
     "text": [
      "Epoch 25: 100%|██████████| 149/149 [00:01<00:00, 136.50batch/s, acc=nan, loss=nan]  \n"
     ]
    },
    {
     "name": "stdout",
     "output_type": "stream",
     "text": [
      "Epoch 25 validation: Cross-entropy=0.035605862736701965, Accuracy=0.9904761910438538\n"
     ]
    },
    {
     "name": "stderr",
     "output_type": "stream",
     "text": [
      "Epoch 26: 100%|██████████| 149/149 [00:01<00:00, 134.34batch/s, acc=nan, loss=nan]  \n"
     ]
    },
    {
     "name": "stdout",
     "output_type": "stream",
     "text": [
      "Epoch 26 validation: Cross-entropy=0.035716716200113297, Accuracy=0.9904761910438538\n"
     ]
    },
    {
     "name": "stderr",
     "output_type": "stream",
     "text": [
      "Epoch 27: 100%|██████████| 149/149 [00:01<00:00, 139.76batch/s, acc=nan, loss=nan]  \n"
     ]
    },
    {
     "name": "stdout",
     "output_type": "stream",
     "text": [
      "Epoch 27 validation: Cross-entropy=0.03561902418732643, Accuracy=0.9904761910438538\n"
     ]
    },
    {
     "name": "stderr",
     "output_type": "stream",
     "text": [
      "Epoch 28: 100%|██████████| 149/149 [00:01<00:00, 133.14batch/s, acc=nan, loss=nan]  \n"
     ]
    },
    {
     "name": "stdout",
     "output_type": "stream",
     "text": [
      "Epoch 28 validation: Cross-entropy=0.03562251850962639, Accuracy=0.9904761910438538\n"
     ]
    },
    {
     "name": "stderr",
     "output_type": "stream",
     "text": [
      "Epoch 29: 100%|██████████| 149/149 [00:01<00:00, 135.07batch/s, acc=nan, loss=nan]  \n"
     ]
    },
    {
     "name": "stdout",
     "output_type": "stream",
     "text": [
      "Epoch 29 validation: Cross-entropy=0.03557734936475754, Accuracy=0.9904761910438538\n"
     ]
    },
    {
     "name": "stderr",
     "output_type": "stream",
     "text": [
      "Epoch 30: 100%|██████████| 149/149 [00:01<00:00, 124.16batch/s, acc=nan, loss=nan]  \n"
     ]
    },
    {
     "name": "stdout",
     "output_type": "stream",
     "text": [
      "Epoch 30 validation: Cross-entropy=0.03555601090192795, Accuracy=0.9904761910438538\n"
     ]
    },
    {
     "name": "stderr",
     "output_type": "stream",
     "text": [
      "Epoch 31: 100%|██████████| 149/149 [00:01<00:00, 126.26batch/s, acc=nan, loss=nan]  \n"
     ]
    },
    {
     "name": "stdout",
     "output_type": "stream",
     "text": [
      "Epoch 31 validation: Cross-entropy=0.035523202270269394, Accuracy=0.9904761910438538\n"
     ]
    },
    {
     "name": "stderr",
     "output_type": "stream",
     "text": [
      "Epoch 32: 100%|██████████| 149/149 [00:01<00:00, 125.78batch/s, acc=nan, loss=nan]  \n"
     ]
    },
    {
     "name": "stdout",
     "output_type": "stream",
     "text": [
      "Epoch 32 validation: Cross-entropy=0.035496219992637634, Accuracy=0.9904761910438538\n"
     ]
    },
    {
     "name": "stderr",
     "output_type": "stream",
     "text": [
      "Epoch 33: 100%|██████████| 149/149 [00:01<00:00, 125.94batch/s, acc=nan, loss=nan]  \n"
     ]
    },
    {
     "name": "stdout",
     "output_type": "stream",
     "text": [
      "Epoch 33 validation: Cross-entropy=0.03546658530831337, Accuracy=0.9904761910438538\n"
     ]
    },
    {
     "name": "stderr",
     "output_type": "stream",
     "text": [
      "Epoch 34: 100%|██████████| 149/149 [00:01<00:00, 123.74batch/s, acc=nan, loss=nan]  \n"
     ]
    },
    {
     "name": "stdout",
     "output_type": "stream",
     "text": [
      "Epoch 34 validation: Cross-entropy=0.03543863445520401, Accuracy=0.9904761910438538\n"
     ]
    },
    {
     "name": "stderr",
     "output_type": "stream",
     "text": [
      "Epoch 35: 100%|██████████| 149/149 [00:01<00:00, 140.03batch/s, acc=nan, loss=nan]  \n"
     ]
    },
    {
     "name": "stdout",
     "output_type": "stream",
     "text": [
      "Epoch 35 validation: Cross-entropy=0.03541009500622749, Accuracy=0.9904761910438538\n"
     ]
    },
    {
     "name": "stderr",
     "output_type": "stream",
     "text": [
      "Epoch 36: 100%|██████████| 149/149 [00:01<00:00, 125.10batch/s, acc=nan, loss=nan]  \n"
     ]
    },
    {
     "name": "stdout",
     "output_type": "stream",
     "text": [
      "Epoch 36 validation: Cross-entropy=0.035381875932216644, Accuracy=0.9904761910438538\n"
     ]
    },
    {
     "name": "stderr",
     "output_type": "stream",
     "text": [
      "Epoch 37: 100%|██████████| 149/149 [00:01<00:00, 135.75batch/s, acc=nan, loss=nan]  \n"
     ]
    },
    {
     "name": "stdout",
     "output_type": "stream",
     "text": [
      "Epoch 37 validation: Cross-entropy=0.035257961601018906, Accuracy=0.9904761910438538\n"
     ]
    },
    {
     "name": "stderr",
     "output_type": "stream",
     "text": [
      "Epoch 38: 100%|██████████| 149/149 [00:01<00:00, 139.24batch/s, acc=nan, loss=nan] \n"
     ]
    },
    {
     "name": "stdout",
     "output_type": "stream",
     "text": [
      "Epoch 38 validation: Cross-entropy=0.035369932651519775, Accuracy=0.9904761910438538\n"
     ]
    },
    {
     "name": "stderr",
     "output_type": "stream",
     "text": [
      "Epoch 39: 100%|██████████| 149/149 [00:01<00:00, 136.06batch/s, acc=nan, loss=nan]  \n"
     ]
    },
    {
     "name": "stdout",
     "output_type": "stream",
     "text": [
      "Epoch 39 validation: Cross-entropy=0.035274650901556015, Accuracy=0.9904761910438538\n"
     ]
    },
    {
     "name": "stderr",
     "output_type": "stream",
     "text": [
      "Epoch 40: 100%|██████████| 149/149 [00:01<00:00, 133.86batch/s, acc=nan, loss=nan]  \n"
     ]
    },
    {
     "name": "stdout",
     "output_type": "stream",
     "text": [
      "Epoch 40 validation: Cross-entropy=0.03527915105223656, Accuracy=0.9904761910438538\n"
     ]
    },
    {
     "name": "stderr",
     "output_type": "stream",
     "text": [
      "Epoch 41: 100%|██████████| 149/149 [00:01<00:00, 132.08batch/s, acc=nan, loss=nan]  \n"
     ]
    },
    {
     "name": "stdout",
     "output_type": "stream",
     "text": [
      "Epoch 41 validation: Cross-entropy=0.035236116498708725, Accuracy=0.9904761910438538\n"
     ]
    },
    {
     "name": "stderr",
     "output_type": "stream",
     "text": [
      "Epoch 42: 100%|██████████| 149/149 [00:01<00:00, 128.99batch/s, acc=nan, loss=nan]  \n"
     ]
    },
    {
     "name": "stdout",
     "output_type": "stream",
     "text": [
      "Epoch 42 validation: Cross-entropy=0.035216089338064194, Accuracy=0.9904761910438538\n"
     ]
    },
    {
     "name": "stderr",
     "output_type": "stream",
     "text": [
      "Epoch 43: 100%|██████████| 149/149 [00:01<00:00, 128.33batch/s, acc=nan, loss=nan]  \n"
     ]
    },
    {
     "name": "stdout",
     "output_type": "stream",
     "text": [
      "Epoch 43 validation: Cross-entropy=0.035185255110263824, Accuracy=0.9904761910438538\n"
     ]
    },
    {
     "name": "stderr",
     "output_type": "stream",
     "text": [
      "Epoch 44: 100%|██████████| 149/149 [00:01<00:00, 114.34batch/s, acc=nan, loss=nan]  \n"
     ]
    },
    {
     "name": "stdout",
     "output_type": "stream",
     "text": [
      "Epoch 44 validation: Cross-entropy=0.03515970706939697, Accuracy=0.9904761910438538\n"
     ]
    },
    {
     "name": "stderr",
     "output_type": "stream",
     "text": [
      "Epoch 45: 100%|██████████| 149/149 [00:01<00:00, 118.24batch/s, acc=nan, loss=nan]  \n"
     ]
    },
    {
     "name": "stdout",
     "output_type": "stream",
     "text": [
      "Epoch 45 validation: Cross-entropy=0.03513188660144806, Accuracy=0.9904761910438538\n"
     ]
    },
    {
     "name": "stderr",
     "output_type": "stream",
     "text": [
      "Epoch 46: 100%|██████████| 149/149 [00:01<00:00, 119.29batch/s, acc=nan, loss=nan]  \n"
     ]
    },
    {
     "name": "stdout",
     "output_type": "stream",
     "text": [
      "Epoch 46 validation: Cross-entropy=0.035105228424072266, Accuracy=0.9904761910438538\n"
     ]
    },
    {
     "name": "stderr",
     "output_type": "stream",
     "text": [
      "Epoch 47: 100%|██████████| 149/149 [00:01<00:00, 121.13batch/s, acc=nan, loss=nan]  \n"
     ]
    },
    {
     "name": "stdout",
     "output_type": "stream",
     "text": [
      "Epoch 47 validation: Cross-entropy=0.03507830575108528, Accuracy=0.9904761910438538\n"
     ]
    },
    {
     "name": "stderr",
     "output_type": "stream",
     "text": [
      "Epoch 48: 100%|██████████| 149/149 [00:01<00:00, 119.77batch/s, acc=nan, loss=nan]  \n"
     ]
    },
    {
     "name": "stdout",
     "output_type": "stream",
     "text": [
      "Epoch 48 validation: Cross-entropy=0.035051748156547546, Accuracy=0.9904761910438538\n"
     ]
    },
    {
     "name": "stderr",
     "output_type": "stream",
     "text": [
      "Epoch 49: 100%|██████████| 149/149 [00:01<00:00, 123.03batch/s, acc=nan, loss=nan]  \n"
     ]
    },
    {
     "name": "stdout",
     "output_type": "stream",
     "text": [
      "Epoch 49 validation: Cross-entropy=0.03502524644136429, Accuracy=0.9904761910438538\n"
     ]
    },
    {
     "name": "stderr",
     "output_type": "stream",
     "text": [
      "Epoch 50: 100%|██████████| 149/149 [00:00<00:00, 149.89batch/s, acc=nan, loss=nan]  \n"
     ]
    },
    {
     "name": "stdout",
     "output_type": "stream",
     "text": [
      "Epoch 50 validation: Cross-entropy=0.03490370512008667, Accuracy=0.9904761910438538\n"
     ]
    },
    {
     "name": "stderr",
     "output_type": "stream",
     "text": [
      "Epoch 51: 100%|██████████| 149/149 [00:01<00:00, 137.32batch/s, acc=nan, loss=nan] \n"
     ]
    },
    {
     "name": "stdout",
     "output_type": "stream",
     "text": [
      "Epoch 51 validation: Cross-entropy=0.03501635044813156, Accuracy=0.9904761910438538\n"
     ]
    },
    {
     "name": "stderr",
     "output_type": "stream",
     "text": [
      "Epoch 52: 100%|██████████| 149/149 [00:01<00:00, 134.47batch/s, acc=nan, loss=nan] \n"
     ]
    },
    {
     "name": "stdout",
     "output_type": "stream",
     "text": [
      "Epoch 52 validation: Cross-entropy=0.03492312505841255, Accuracy=0.9904761910438538\n"
     ]
    },
    {
     "name": "stderr",
     "output_type": "stream",
     "text": [
      "Epoch 53: 100%|██████████| 149/149 [00:01<00:00, 137.32batch/s, acc=nan, loss=nan]  \n"
     ]
    },
    {
     "name": "stdout",
     "output_type": "stream",
     "text": [
      "Epoch 53 validation: Cross-entropy=0.03492923453450203, Accuracy=0.9904761910438538\n"
     ]
    },
    {
     "name": "stderr",
     "output_type": "stream",
     "text": [
      "Epoch 54: 100%|██████████| 149/149 [00:01<00:00, 133.62batch/s, acc=nan, loss=nan]  \n"
     ]
    },
    {
     "name": "stdout",
     "output_type": "stream",
     "text": [
      "Epoch 54 validation: Cross-entropy=0.034887902438640594, Accuracy=0.9904761910438538\n"
     ]
    },
    {
     "name": "stderr",
     "output_type": "stream",
     "text": [
      "Epoch 55: 100%|██████████| 149/149 [00:01<00:00, 136.69batch/s, acc=nan, loss=nan]  \n"
     ]
    },
    {
     "name": "stdout",
     "output_type": "stream",
     "text": [
      "Epoch 55 validation: Cross-entropy=0.03486950322985649, Accuracy=0.9904761910438538\n"
     ]
    },
    {
     "name": "stderr",
     "output_type": "stream",
     "text": [
      "Epoch 56: 100%|██████████| 149/149 [00:01<00:00, 141.89batch/s, acc=nan, loss=nan]  \n"
     ]
    },
    {
     "name": "stdout",
     "output_type": "stream",
     "text": [
      "Epoch 56 validation: Cross-entropy=0.034840259701013565, Accuracy=0.9904761910438538\n"
     ]
    },
    {
     "name": "stderr",
     "output_type": "stream",
     "text": [
      "Epoch 57: 100%|██████████| 149/149 [00:01<00:00, 128.77batch/s, acc=nan, loss=nan]  \n"
     ]
    },
    {
     "name": "stdout",
     "output_type": "stream",
     "text": [
      "Epoch 57 validation: Cross-entropy=0.03481645882129669, Accuracy=0.9904761910438538\n"
     ]
    },
    {
     "name": "stderr",
     "output_type": "stream",
     "text": [
      "Epoch 58: 100%|██████████| 149/149 [00:01<00:00, 121.62batch/s, acc=nan, loss=nan]  \n"
     ]
    },
    {
     "name": "stdout",
     "output_type": "stream",
     "text": [
      "Epoch 58 validation: Cross-entropy=0.034790199249982834, Accuracy=0.9904761910438538\n"
     ]
    },
    {
     "name": "stderr",
     "output_type": "stream",
     "text": [
      "Epoch 59: 100%|██████████| 149/149 [00:01<00:00, 120.59batch/s, acc=nan, loss=nan]  \n"
     ]
    },
    {
     "name": "stdout",
     "output_type": "stream",
     "text": [
      "Epoch 59 validation: Cross-entropy=0.034765321761369705, Accuracy=0.9904761910438538\n"
     ]
    },
    {
     "name": "stderr",
     "output_type": "stream",
     "text": [
      "Epoch 60: 100%|██████████| 149/149 [00:01<00:00, 122.72batch/s, acc=nan, loss=nan]  \n"
     ]
    },
    {
     "name": "stdout",
     "output_type": "stream",
     "text": [
      "Epoch 60 validation: Cross-entropy=0.03474002704024315, Accuracy=0.9904761910438538\n"
     ]
    },
    {
     "name": "stderr",
     "output_type": "stream",
     "text": [
      "Epoch 61: 100%|██████████| 149/149 [00:01<00:00, 126.48batch/s, acc=nan, loss=nan]  \n"
     ]
    },
    {
     "name": "stdout",
     "output_type": "stream",
     "text": [
      "Epoch 61 validation: Cross-entropy=0.034715067595243454, Accuracy=0.9904761910438538\n"
     ]
    },
    {
     "name": "stderr",
     "output_type": "stream",
     "text": [
      "Epoch 62: 100%|██████████| 149/149 [00:01<00:00, 139.50batch/s, acc=nan, loss=nan]  \n"
     ]
    },
    {
     "name": "stdout",
     "output_type": "stream",
     "text": [
      "Epoch 62 validation: Cross-entropy=0.034689951688051224, Accuracy=0.9904761910438538\n"
     ]
    },
    {
     "name": "stderr",
     "output_type": "stream",
     "text": [
      "Epoch 63: 100%|██████████| 149/149 [00:01<00:00, 119.00batch/s, acc=nan, loss=nan]  \n"
     ]
    },
    {
     "name": "stdout",
     "output_type": "stream",
     "text": [
      "Epoch 63 validation: Cross-entropy=0.034665144979953766, Accuracy=0.9904761910438538\n"
     ]
    },
    {
     "name": "stderr",
     "output_type": "stream",
     "text": [
      "Epoch 64: 100%|██████████| 149/149 [00:01<00:00, 132.43batch/s, acc=nan, loss=nan]  \n"
     ]
    },
    {
     "name": "stdout",
     "output_type": "stream",
     "text": [
      "Epoch 64 validation: Cross-entropy=0.03454596549272537, Accuracy=0.9904761910438538\n"
     ]
    },
    {
     "name": "stderr",
     "output_type": "stream",
     "text": [
      "Epoch 65: 100%|██████████| 149/149 [00:01<00:00, 142.71batch/s, acc=nan, loss=nan]  \n"
     ]
    },
    {
     "name": "stdout",
     "output_type": "stream",
     "text": [
      "Epoch 65 validation: Cross-entropy=0.03465929627418518, Accuracy=0.9904761910438538\n"
     ]
    },
    {
     "name": "stderr",
     "output_type": "stream",
     "text": [
      "Epoch 66: 100%|██████████| 149/149 [00:01<00:00, 131.80batch/s, acc=nan, loss=nan] \n"
     ]
    },
    {
     "name": "stdout",
     "output_type": "stream",
     "text": [
      "Epoch 66 validation: Cross-entropy=0.0345681831240654, Accuracy=0.9904761910438538\n"
     ]
    },
    {
     "name": "stderr",
     "output_type": "stream",
     "text": [
      "Epoch 67: 100%|██████████| 149/149 [00:01<00:00, 134.10batch/s, acc=nan, loss=nan]  \n"
     ]
    },
    {
     "name": "stdout",
     "output_type": "stream",
     "text": [
      "Epoch 67 validation: Cross-entropy=0.03457579389214516, Accuracy=0.9904761910438538\n"
     ]
    },
    {
     "name": "stderr",
     "output_type": "stream",
     "text": [
      "Epoch 68: 100%|██████████| 149/149 [00:01<00:00, 134.15batch/s, acc=nan, loss=nan]  \n"
     ]
    },
    {
     "name": "stdout",
     "output_type": "stream",
     "text": [
      "Epoch 68 validation: Cross-entropy=0.03453604131937027, Accuracy=0.9904761910438538\n"
     ]
    },
    {
     "name": "stderr",
     "output_type": "stream",
     "text": [
      "Epoch 69: 100%|██████████| 149/149 [00:01<00:00, 137.92batch/s, acc=nan, loss=nan]  \n"
     ]
    },
    {
     "name": "stdout",
     "output_type": "stream",
     "text": [
      "Epoch 69 validation: Cross-entropy=0.03451924026012421, Accuracy=0.9904761910438538\n"
     ]
    },
    {
     "name": "stderr",
     "output_type": "stream",
     "text": [
      "Epoch 70: 100%|██████████| 149/149 [00:01<00:00, 126.24batch/s, acc=nan, loss=nan]  \n"
     ]
    },
    {
     "name": "stdout",
     "output_type": "stream",
     "text": [
      "Epoch 70 validation: Cross-entropy=0.03449174016714096, Accuracy=0.9904761910438538\n"
     ]
    },
    {
     "name": "stderr",
     "output_type": "stream",
     "text": [
      "Epoch 71: 100%|██████████| 149/149 [00:01<00:00, 118.24batch/s, acc=nan, loss=nan]  \n"
     ]
    },
    {
     "name": "stdout",
     "output_type": "stream",
     "text": [
      "Epoch 71 validation: Cross-entropy=0.03446955606341362, Accuracy=0.9904761910438538\n"
     ]
    },
    {
     "name": "stderr",
     "output_type": "stream",
     "text": [
      "Epoch 72: 100%|██████████| 149/149 [00:01<00:00, 120.20batch/s, acc=nan, loss=nan]  \n"
     ]
    },
    {
     "name": "stdout",
     "output_type": "stream",
     "text": [
      "Epoch 72 validation: Cross-entropy=0.03444486856460571, Accuracy=0.9904761910438538\n"
     ]
    },
    {
     "name": "stderr",
     "output_type": "stream",
     "text": [
      "Epoch 73: 100%|██████████| 149/149 [00:01<00:00, 124.57batch/s, acc=nan, loss=nan] \n"
     ]
    },
    {
     "name": "stdout",
     "output_type": "stream",
     "text": [
      "Epoch 73 validation: Cross-entropy=0.03442163020372391, Accuracy=0.9904761910438538\n"
     ]
    },
    {
     "name": "stderr",
     "output_type": "stream",
     "text": [
      "Epoch 74: 100%|██████████| 149/149 [00:01<00:00, 121.29batch/s, acc=nan, loss=nan]  \n"
     ]
    },
    {
     "name": "stdout",
     "output_type": "stream",
     "text": [
      "Epoch 74 validation: Cross-entropy=0.034397754818201065, Accuracy=0.9904761910438538\n"
     ]
    },
    {
     "name": "stderr",
     "output_type": "stream",
     "text": [
      "Epoch 75: 100%|██████████| 149/149 [00:01<00:00, 123.95batch/s, acc=nan, loss=nan]  \n"
     ]
    },
    {
     "name": "stdout",
     "output_type": "stream",
     "text": [
      "Epoch 75 validation: Cross-entropy=0.03437452018260956, Accuracy=0.9904761910438538\n"
     ]
    },
    {
     "name": "stderr",
     "output_type": "stream",
     "text": [
      "Epoch 76: 100%|██████████| 149/149 [00:01<00:00, 132.32batch/s, acc=nan, loss=nan]  \n"
     ]
    },
    {
     "name": "stdout",
     "output_type": "stream",
     "text": [
      "Epoch 76 validation: Cross-entropy=0.03435106202960014, Accuracy=0.9904761910438538\n"
     ]
    },
    {
     "name": "stderr",
     "output_type": "stream",
     "text": [
      "Epoch 77: 100%|██████████| 149/149 [00:01<00:00, 124.47batch/s, acc=nan, loss=nan]  \n"
     ]
    },
    {
     "name": "stdout",
     "output_type": "stream",
     "text": [
      "Epoch 77 validation: Cross-entropy=0.03432784229516983, Accuracy=0.9904761910438538\n"
     ]
    },
    {
     "name": "stderr",
     "output_type": "stream",
     "text": [
      "Epoch 78: 100%|██████████| 149/149 [00:01<00:00, 136.44batch/s, acc=nan, loss=nan]  \n"
     ]
    },
    {
     "name": "stdout",
     "output_type": "stream",
     "text": [
      "Epoch 78 validation: Cross-entropy=0.034210383892059326, Accuracy=0.9904761910438538\n"
     ]
    },
    {
     "name": "stderr",
     "output_type": "stream",
     "text": [
      "Epoch 79: 100%|██████████| 149/149 [00:01<00:00, 133.74batch/s, acc=nan, loss=nan]  \n"
     ]
    },
    {
     "name": "stdout",
     "output_type": "stream",
     "text": [
      "Epoch 79 validation: Cross-entropy=0.034324754029512405, Accuracy=0.9904761910438538\n"
     ]
    },
    {
     "name": "stderr",
     "output_type": "stream",
     "text": [
      "Epoch 80: 100%|██████████| 149/149 [00:01<00:00, 136.31batch/s, acc=nan, loss=nan]  \n"
     ]
    },
    {
     "name": "stdout",
     "output_type": "stream",
     "text": [
      "Epoch 80 validation: Cross-entropy=0.034235429018735886, Accuracy=0.9904761910438538\n"
     ]
    },
    {
     "name": "stderr",
     "output_type": "stream",
     "text": [
      "Epoch 81: 100%|██████████| 149/149 [00:01<00:00, 136.56batch/s, acc=nan, loss=nan]  \n"
     ]
    },
    {
     "name": "stdout",
     "output_type": "stream",
     "text": [
      "Epoch 81 validation: Cross-entropy=0.03424428403377533, Accuracy=0.9904761910438538\n"
     ]
    },
    {
     "name": "stderr",
     "output_type": "stream",
     "text": [
      "Epoch 82: 100%|██████████| 149/149 [00:01<00:00, 133.26batch/s, acc=nan, loss=nan]  \n"
     ]
    },
    {
     "name": "stdout",
     "output_type": "stream",
     "text": [
      "Epoch 82 validation: Cross-entropy=0.034206289798021317, Accuracy=0.9904761910438538\n"
     ]
    },
    {
     "name": "stderr",
     "output_type": "stream",
     "text": [
      "Epoch 83: 100%|██████████| 149/149 [00:01<00:00, 127.89batch/s, acc=nan, loss=nan]  \n"
     ]
    },
    {
     "name": "stdout",
     "output_type": "stream",
     "text": [
      "Epoch 83 validation: Cross-entropy=0.034190867096185684, Accuracy=0.9904761910438538\n"
     ]
    },
    {
     "name": "stderr",
     "output_type": "stream",
     "text": [
      "Epoch 84: 100%|██████████| 149/149 [00:01<00:00, 128.30batch/s, acc=nan, loss=nan]  \n"
     ]
    },
    {
     "name": "stdout",
     "output_type": "stream",
     "text": [
      "Epoch 84 validation: Cross-entropy=0.03416476771235466, Accuracy=0.9904761910438538\n"
     ]
    },
    {
     "name": "stderr",
     "output_type": "stream",
     "text": [
      "Epoch 85: 100%|██████████| 149/149 [00:01<00:00, 118.47batch/s, acc=nan, loss=nan]  \n"
     ]
    },
    {
     "name": "stdout",
     "output_type": "stream",
     "text": [
      "Epoch 85 validation: Cross-entropy=0.03414410352706909, Accuracy=0.9904761910438538\n"
     ]
    },
    {
     "name": "stderr",
     "output_type": "stream",
     "text": [
      "Epoch 86: 100%|██████████| 149/149 [00:01<00:00, 122.52batch/s, acc=nan, loss=nan]  \n"
     ]
    },
    {
     "name": "stdout",
     "output_type": "stream",
     "text": [
      "Epoch 86 validation: Cross-entropy=0.03412098065018654, Accuracy=0.9904761910438538\n"
     ]
    },
    {
     "name": "stderr",
     "output_type": "stream",
     "text": [
      "Epoch 87: 100%|██████████| 149/149 [00:01<00:00, 124.36batch/s, acc=nan, loss=nan]  \n"
     ]
    },
    {
     "name": "stdout",
     "output_type": "stream",
     "text": [
      "Epoch 87 validation: Cross-entropy=0.03409897908568382, Accuracy=0.9904761910438538\n"
     ]
    },
    {
     "name": "stderr",
     "output_type": "stream",
     "text": [
      "Epoch 88: 100%|██████████| 149/149 [00:01<00:00, 125.09batch/s, acc=nan, loss=nan]  \n"
     ]
    },
    {
     "name": "stdout",
     "output_type": "stream",
     "text": [
      "Epoch 88 validation: Cross-entropy=0.03407672420144081, Accuracy=0.9904761910438538\n"
     ]
    },
    {
     "name": "stderr",
     "output_type": "stream",
     "text": [
      "Epoch 89: 100%|██████████| 149/149 [00:01<00:00, 142.16batch/s, acc=nan, loss=nan] \n"
     ]
    },
    {
     "name": "stdout",
     "output_type": "stream",
     "text": [
      "Epoch 89 validation: Cross-entropy=0.03405482694506645, Accuracy=0.9904761910438538\n"
     ]
    },
    {
     "name": "stderr",
     "output_type": "stream",
     "text": [
      "Epoch 90: 100%|██████████| 149/149 [00:01<00:00, 121.42batch/s, acc=nan, loss=nan]  \n"
     ]
    },
    {
     "name": "stdout",
     "output_type": "stream",
     "text": [
      "Epoch 90 validation: Cross-entropy=0.034032758325338364, Accuracy=0.9904761910438538\n"
     ]
    },
    {
     "name": "stderr",
     "output_type": "stream",
     "text": [
      "Epoch 91: 100%|██████████| 149/149 [00:01<00:00, 132.32batch/s, acc=nan, loss=nan]  \n"
     ]
    },
    {
     "name": "stdout",
     "output_type": "stream",
     "text": [
      "Epoch 91 validation: Cross-entropy=0.03401105850934982, Accuracy=0.9904761910438538\n"
     ]
    },
    {
     "name": "stderr",
     "output_type": "stream",
     "text": [
      "Epoch 92: 100%|██████████| 149/149 [00:01<00:00, 128.94batch/s, acc=nan, loss=nan]  \n"
     ]
    },
    {
     "name": "stdout",
     "output_type": "stream",
     "text": [
      "Epoch 92 validation: Cross-entropy=0.033989280462265015, Accuracy=0.9904761910438538\n"
     ]
    },
    {
     "name": "stderr",
     "output_type": "stream",
     "text": [
      "Epoch 93: 100%|██████████| 149/149 [00:01<00:00, 134.83batch/s, acc=nan, loss=nan]  \n"
     ]
    },
    {
     "name": "stdout",
     "output_type": "stream",
     "text": [
      "Epoch 93 validation: Cross-entropy=0.03387380763888359, Accuracy=0.9904761910438538\n"
     ]
    },
    {
     "name": "stderr",
     "output_type": "stream",
     "text": [
      "Epoch 94: 100%|██████████| 149/149 [00:01<00:00, 140.82batch/s, acc=nan, loss=nan]  \n"
     ]
    },
    {
     "name": "stdout",
     "output_type": "stream",
     "text": [
      "Epoch 94 validation: Cross-entropy=0.033965449780225754, Accuracy=0.9904761910438538\n"
     ]
    },
    {
     "name": "stderr",
     "output_type": "stream",
     "text": [
      "Epoch 95: 100%|██████████| 149/149 [00:01<00:00, 134.34batch/s, acc=nan, loss=nan]  \n"
     ]
    },
    {
     "name": "stdout",
     "output_type": "stream",
     "text": [
      "Epoch 95 validation: Cross-entropy=0.03391343355178833, Accuracy=0.9904761910438538\n"
     ]
    },
    {
     "name": "stderr",
     "output_type": "stream",
     "text": [
      "Epoch 96: 100%|██████████| 149/149 [00:01<00:00, 133.34batch/s, acc=nan, loss=nan]  \n"
     ]
    },
    {
     "name": "stdout",
     "output_type": "stream",
     "text": [
      "Epoch 96 validation: Cross-entropy=0.033906489610672, Accuracy=0.9904761910438538\n"
     ]
    },
    {
     "name": "stderr",
     "output_type": "stream",
     "text": [
      "Epoch 97: 100%|██████████| 149/149 [00:01<00:00, 134.59batch/s, acc=nan, loss=nan]  \n"
     ]
    },
    {
     "name": "stdout",
     "output_type": "stream",
     "text": [
      "Epoch 97 validation: Cross-entropy=0.03387804701924324, Accuracy=0.9904761910438538\n"
     ]
    },
    {
     "name": "stderr",
     "output_type": "stream",
     "text": [
      "Epoch 98: 100%|██████████| 149/149 [00:01<00:00, 132.20batch/s, acc=nan, loss=nan]  \n"
     ]
    },
    {
     "name": "stdout",
     "output_type": "stream",
     "text": [
      "Epoch 98 validation: Cross-entropy=0.033860109746456146, Accuracy=0.9904761910438538\n"
     ]
    },
    {
     "name": "stderr",
     "output_type": "stream",
     "text": [
      "Epoch 99: 100%|██████████| 149/149 [00:01<00:00, 122.52batch/s, acc=nan, loss=nan]  \n"
     ]
    },
    {
     "name": "stdout",
     "output_type": "stream",
     "text": [
      "Epoch 99 validation: Cross-entropy=0.03383754566311836, Accuracy=0.9904761910438538\n"
     ]
    },
    {
     "name": "stderr",
     "output_type": "stream",
     "text": [
      "Epoch 100: 100%|██████████| 149/149 [00:01<00:00, 122.42batch/s, acc=nan, loss=nan]  \n"
     ]
    },
    {
     "name": "stdout",
     "output_type": "stream",
     "text": [
      "Epoch 100 validation: Cross-entropy=0.03381716087460518, Accuracy=0.9904761910438538\n"
     ]
    },
    {
     "name": "stderr",
     "output_type": "stream",
     "text": [
      "Epoch 101: 100%|██████████| 149/149 [00:01<00:00, 123.23batch/s, acc=nan, loss=nan]  \n"
     ]
    },
    {
     "name": "stdout",
     "output_type": "stream",
     "text": [
      "Epoch 101 validation: Cross-entropy=0.03379586711525917, Accuracy=0.9904761910438538\n"
     ]
    },
    {
     "name": "stderr",
     "output_type": "stream",
     "text": [
      "Epoch 102: 100%|██████████| 149/149 [00:01<00:00, 121.57batch/s, acc=nan, loss=nan]  \n"
     ]
    },
    {
     "name": "stdout",
     "output_type": "stream",
     "text": [
      "Epoch 102 validation: Cross-entropy=0.033775243908166885, Accuracy=0.9904761910438538\n"
     ]
    },
    {
     "name": "stderr",
     "output_type": "stream",
     "text": [
      "Epoch 103: 100%|██████████| 149/149 [00:01<00:00, 123.23batch/s, acc=nan, loss=nan]  \n"
     ]
    },
    {
     "name": "stdout",
     "output_type": "stream",
     "text": [
      "Epoch 103 validation: Cross-entropy=0.0337318554520607, Accuracy=0.9904761910438538\n"
     ]
    },
    {
     "name": "stderr",
     "output_type": "stream",
     "text": [
      "Epoch 104: 100%|██████████| 149/149 [00:01<00:00, 122.22batch/s, acc=nan, loss=nan]  \n"
     ]
    },
    {
     "name": "stdout",
     "output_type": "stream",
     "text": [
      "Epoch 104 validation: Cross-entropy=0.03374534845352173, Accuracy=0.9904761910438538\n"
     ]
    },
    {
     "name": "stderr",
     "output_type": "stream",
     "text": [
      "Epoch 105: 100%|██████████| 149/149 [00:00<00:00, 149.89batch/s, acc=nan, loss=nan]  \n"
     ]
    },
    {
     "name": "stdout",
     "output_type": "stream",
     "text": [
      "Epoch 105 validation: Cross-entropy=0.0337081141769886, Accuracy=0.9904761910438538\n"
     ]
    },
    {
     "name": "stderr",
     "output_type": "stream",
     "text": [
      "Epoch 106: 100%|██████████| 149/149 [00:01<00:00, 138.08batch/s, acc=nan, loss=nan]  \n"
     ]
    },
    {
     "name": "stdout",
     "output_type": "stream",
     "text": [
      "Epoch 106 validation: Cross-entropy=0.033695727586746216, Accuracy=0.9904761910438538\n"
     ]
    },
    {
     "name": "stderr",
     "output_type": "stream",
     "text": [
      "Epoch 107: 100%|██████████| 149/149 [00:01<00:00, 134.77batch/s, acc=nan, loss=nan] \n"
     ]
    },
    {
     "name": "stdout",
     "output_type": "stream",
     "text": [
      "Epoch 107 validation: Cross-entropy=0.033671293407678604, Accuracy=0.9904761910438538\n"
     ]
    },
    {
     "name": "stderr",
     "output_type": "stream",
     "text": [
      "Epoch 108: 100%|██████████| 149/149 [00:01<00:00, 138.47batch/s, acc=nan, loss=nan]  \n"
     ]
    },
    {
     "name": "stdout",
     "output_type": "stream",
     "text": [
      "Epoch 108 validation: Cross-entropy=0.03355972096323967, Accuracy=0.9904761910438538\n"
     ]
    },
    {
     "name": "stderr",
     "output_type": "stream",
     "text": [
      "Epoch 109: 100%|██████████| 149/149 [00:01<00:00, 133.50batch/s, acc=nan, loss=nan]  \n"
     ]
    },
    {
     "name": "stdout",
     "output_type": "stream",
     "text": [
      "Epoch 109 validation: Cross-entropy=0.03365175798535347, Accuracy=0.9904761910438538\n"
     ]
    },
    {
     "name": "stderr",
     "output_type": "stream",
     "text": [
      "Epoch 110: 100%|██████████| 149/149 [00:01<00:00, 138.72batch/s, acc=nan, loss=nan]  \n"
     ]
    },
    {
     "name": "stdout",
     "output_type": "stream",
     "text": [
      "Epoch 110 validation: Cross-entropy=0.033578451722860336, Accuracy=0.9904761910438538\n"
     ]
    },
    {
     "name": "stderr",
     "output_type": "stream",
     "text": [
      "Epoch 111: 100%|██████████| 149/149 [00:01<00:00, 137.32batch/s, acc=nan, loss=nan]  \n"
     ]
    },
    {
     "name": "stdout",
     "output_type": "stream",
     "text": [
      "Epoch 111 validation: Cross-entropy=0.03358432650566101, Accuracy=0.9904761910438538\n"
     ]
    },
    {
     "name": "stderr",
     "output_type": "stream",
     "text": [
      "Epoch 112: 100%|██████████| 149/149 [00:01<00:00, 130.92batch/s, acc=nan, loss=nan]  \n"
     ]
    },
    {
     "name": "stdout",
     "output_type": "stream",
     "text": [
      "Epoch 112 validation: Cross-entropy=0.033552251756191254, Accuracy=0.9904761910438538\n"
     ]
    },
    {
     "name": "stderr",
     "output_type": "stream",
     "text": [
      "Epoch 113: 100%|██████████| 149/149 [00:01<00:00, 122.32batch/s, acc=nan, loss=nan]  \n"
     ]
    },
    {
     "name": "stdout",
     "output_type": "stream",
     "text": [
      "Epoch 113 validation: Cross-entropy=0.033560965210199356, Accuracy=0.9904761910438538\n"
     ]
    },
    {
     "name": "stderr",
     "output_type": "stream",
     "text": [
      "Epoch 114: 100%|██████████| 149/149 [00:01<00:00, 128.66batch/s, acc=nan, loss=nan]  \n"
     ]
    },
    {
     "name": "stdout",
     "output_type": "stream",
     "text": [
      "Epoch 114 validation: Cross-entropy=0.03352707624435425, Accuracy=0.9904761910438538\n"
     ]
    },
    {
     "name": "stderr",
     "output_type": "stream",
     "text": [
      "Epoch 115: 100%|██████████| 149/149 [00:01<00:00, 122.62batch/s, acc=nan, loss=nan]  \n"
     ]
    },
    {
     "name": "stdout",
     "output_type": "stream",
     "text": [
      "Epoch 115 validation: Cross-entropy=0.033513735979795456, Accuracy=0.9904761910438538\n"
     ]
    },
    {
     "name": "stderr",
     "output_type": "stream",
     "text": [
      "Epoch 116: 100%|██████████| 149/149 [00:01<00:00, 120.74batch/s, acc=nan, loss=nan] \n"
     ]
    },
    {
     "name": "stdout",
     "output_type": "stream",
     "text": [
      "Epoch 116 validation: Cross-entropy=0.033490970730781555, Accuracy=0.9904761910438538\n"
     ]
    },
    {
     "name": "stderr",
     "output_type": "stream",
     "text": [
      "Epoch 117: 100%|██████████| 149/149 [00:01<00:00, 138.08batch/s, acc=nan, loss=nan]  \n"
     ]
    },
    {
     "name": "stdout",
     "output_type": "stream",
     "text": [
      "Epoch 117 validation: Cross-entropy=0.03347279503941536, Accuracy=0.9904761910438538\n"
     ]
    },
    {
     "name": "stderr",
     "output_type": "stream",
     "text": [
      "Epoch 118: 100%|██████████| 149/149 [00:01<00:00, 134.89batch/s, acc=nan, loss=nan]  \n"
     ]
    },
    {
     "name": "stdout",
     "output_type": "stream",
     "text": [
      "Epoch 118 validation: Cross-entropy=0.033452555537223816, Accuracy=0.9904761910438538\n"
     ]
    },
    {
     "name": "stderr",
     "output_type": "stream",
     "text": [
      "Epoch 119: 100%|██████████| 149/149 [00:01<00:00, 129.56batch/s, acc=nan, loss=nan]  \n"
     ]
    },
    {
     "name": "stdout",
     "output_type": "stream",
     "text": [
      "Epoch 119 validation: Cross-entropy=0.033411428332328796, Accuracy=0.9904761910438538\n"
     ]
    },
    {
     "name": "stderr",
     "output_type": "stream",
     "text": [
      "Epoch 120: 100%|██████████| 149/149 [00:01<00:00, 142.57batch/s, acc=nan, loss=nan]  \n"
     ]
    },
    {
     "name": "stdout",
     "output_type": "stream",
     "text": [
      "Epoch 120 validation: Cross-entropy=0.033425189554691315, Accuracy=0.9904761910438538\n"
     ]
    },
    {
     "name": "stderr",
     "output_type": "stream",
     "text": [
      "Epoch 121: 100%|██████████| 149/149 [00:01<00:00, 135.81batch/s, acc=nan, loss=nan]  \n"
     ]
    },
    {
     "name": "stdout",
     "output_type": "stream",
     "text": [
      "Epoch 121 validation: Cross-entropy=0.0332971028983593, Accuracy=0.9904761910438538\n"
     ]
    },
    {
     "name": "stderr",
     "output_type": "stream",
     "text": [
      "Epoch 122: 100%|██████████| 149/149 [00:01<00:00, 135.69batch/s, acc=nan, loss=nan]  \n"
     ]
    },
    {
     "name": "stdout",
     "output_type": "stream",
     "text": [
      "Epoch 122 validation: Cross-entropy=0.03339879587292671, Accuracy=0.9904761910438538\n"
     ]
    },
    {
     "name": "stderr",
     "output_type": "stream",
     "text": [
      "Epoch 123: 100%|██████████| 149/149 [00:01<00:00, 139.37batch/s, acc=nan, loss=nan]  \n"
     ]
    },
    {
     "name": "stdout",
     "output_type": "stream",
     "text": [
      "Epoch 123 validation: Cross-entropy=0.03332220017910004, Accuracy=0.9904761910438538\n"
     ]
    },
    {
     "name": "stderr",
     "output_type": "stream",
     "text": [
      "Epoch 124: 100%|██████████| 149/149 [00:01<00:00, 137.38batch/s, acc=nan, loss=nan]  \n"
     ]
    },
    {
     "name": "stdout",
     "output_type": "stream",
     "text": [
      "Epoch 124 validation: Cross-entropy=0.03333123400807381, Accuracy=0.9904761910438538\n"
     ]
    },
    {
     "name": "stderr",
     "output_type": "stream",
     "text": [
      "Epoch 125: 100%|██████████| 149/149 [00:01<00:00, 132.91batch/s, acc=nan, loss=nan]  \n"
     ]
    },
    {
     "name": "stdout",
     "output_type": "stream",
     "text": [
      "Epoch 125 validation: Cross-entropy=0.03329937905073166, Accuracy=0.9904761910438538\n"
     ]
    },
    {
     "name": "stderr",
     "output_type": "stream",
     "text": [
      "Epoch 126: 100%|██████████| 149/149 [00:01<00:00, 138.21batch/s, acc=nan, loss=nan]  \n"
     ]
    },
    {
     "name": "stdout",
     "output_type": "stream",
     "text": [
      "Epoch 126 validation: Cross-entropy=0.03330906480550766, Accuracy=0.9904761910438538\n"
     ]
    },
    {
     "name": "stderr",
     "output_type": "stream",
     "text": [
      "Epoch 127: 100%|██████████| 149/149 [00:01<00:00, 120.49batch/s, acc=nan, loss=nan]  \n"
     ]
    },
    {
     "name": "stdout",
     "output_type": "stream",
     "text": [
      "Epoch 127 validation: Cross-entropy=0.0332760363817215, Accuracy=0.9904761910438538\n"
     ]
    },
    {
     "name": "stderr",
     "output_type": "stream",
     "text": [
      "Epoch 128: 100%|██████████| 149/149 [00:01<00:00, 123.69batch/s, acc=nan, loss=nan]  \n"
     ]
    },
    {
     "name": "stdout",
     "output_type": "stream",
     "text": [
      "Epoch 128 validation: Cross-entropy=0.03326414152979851, Accuracy=0.9904761910438538\n"
     ]
    },
    {
     "name": "stderr",
     "output_type": "stream",
     "text": [
      "Epoch 129: 100%|██████████| 149/149 [00:01<00:00, 125.83batch/s, acc=nan, loss=nan]  \n"
     ]
    },
    {
     "name": "stdout",
     "output_type": "stream",
     "text": [
      "Epoch 129 validation: Cross-entropy=0.033241912722587585, Accuracy=0.9904761910438538\n"
     ]
    },
    {
     "name": "stderr",
     "output_type": "stream",
     "text": [
      "Epoch 130: 100%|██████████| 149/149 [00:01<00:00, 118.90batch/s, acc=nan, loss=nan]  \n"
     ]
    },
    {
     "name": "stdout",
     "output_type": "stream",
     "text": [
      "Epoch 130 validation: Cross-entropy=0.03322506695985794, Accuracy=0.9904761910438538\n"
     ]
    },
    {
     "name": "stderr",
     "output_type": "stream",
     "text": [
      "Epoch 131: 100%|██████████| 149/149 [00:01<00:00, 122.72batch/s, acc=nan, loss=nan]  \n"
     ]
    },
    {
     "name": "stdout",
     "output_type": "stream",
     "text": [
      "Epoch 131 validation: Cross-entropy=0.03320574387907982, Accuracy=0.9904761910438538\n"
     ]
    },
    {
     "name": "stderr",
     "output_type": "stream",
     "text": [
      "Epoch 132: 100%|██████████| 149/149 [00:01<00:00, 125.59batch/s, acc=nan, loss=nan]  \n"
     ]
    },
    {
     "name": "stdout",
     "output_type": "stream",
     "text": [
      "Epoch 132 validation: Cross-entropy=0.03318782523274422, Accuracy=0.9904761910438538\n"
     ]
    },
    {
     "name": "stderr",
     "output_type": "stream",
     "text": [
      "Epoch 133: 100%|██████████| 149/149 [00:01<00:00, 140.03batch/s, acc=nan, loss=nan]  \n"
     ]
    },
    {
     "name": "stdout",
     "output_type": "stream",
     "text": [
      "Epoch 133 validation: Cross-entropy=0.03316919505596161, Accuracy=0.9904761910438538\n"
     ]
    },
    {
     "name": "stderr",
     "output_type": "stream",
     "text": [
      "Epoch 134: 100%|██████████| 149/149 [00:01<00:00, 138.98batch/s, acc=nan, loss=nan]  \n"
     ]
    },
    {
     "name": "stdout",
     "output_type": "stream",
     "text": [
      "Epoch 134 validation: Cross-entropy=0.03312976285815239, Accuracy=0.9904761910438538\n"
     ]
    },
    {
     "name": "stderr",
     "output_type": "stream",
     "text": [
      "Epoch 135: 100%|██████████| 149/149 [00:01<00:00, 140.69batch/s, acc=nan, loss=nan]  \n"
     ]
    },
    {
     "name": "stdout",
     "output_type": "stream",
     "text": [
      "Epoch 135 validation: Cross-entropy=0.03314416855573654, Accuracy=0.9904761910438538\n"
     ]
    },
    {
     "name": "stderr",
     "output_type": "stream",
     "text": [
      "Epoch 136: 100%|██████████| 149/149 [00:01<00:00, 140.42batch/s, acc=nan, loss=nan]  \n"
     ]
    },
    {
     "name": "stdout",
     "output_type": "stream",
     "text": [
      "Epoch 136 validation: Cross-entropy=0.03301788493990898, Accuracy=0.9904761910438538\n"
     ]
    },
    {
     "name": "stderr",
     "output_type": "stream",
     "text": [
      "Epoch 137: 100%|██████████| 149/149 [00:01<00:00, 135.44batch/s, acc=nan, loss=nan]  \n"
     ]
    },
    {
     "name": "stdout",
     "output_type": "stream",
     "text": [
      "Epoch 137 validation: Cross-entropy=0.033120252192020416, Accuracy=0.9904761910438538\n"
     ]
    },
    {
     "name": "stderr",
     "output_type": "stream",
     "text": [
      "Epoch 138: 100%|██████████| 149/149 [00:01<00:00, 134.95batch/s, acc=nan, loss=nan]  \n"
     ]
    },
    {
     "name": "stdout",
     "output_type": "stream",
     "text": [
      "Epoch 138 validation: Cross-entropy=0.03304516151547432, Accuracy=0.9904761910438538\n"
     ]
    },
    {
     "name": "stderr",
     "output_type": "stream",
     "text": [
      "Epoch 139: 100%|██████████| 149/149 [00:01<00:00, 133.38batch/s, acc=nan, loss=nan]  \n"
     ]
    },
    {
     "name": "stdout",
     "output_type": "stream",
     "text": [
      "Epoch 139 validation: Cross-entropy=0.03305526077747345, Accuracy=0.9904761910438538\n"
     ]
    },
    {
     "name": "stderr",
     "output_type": "stream",
     "text": [
      "Epoch 140: 100%|██████████| 149/149 [00:01<00:00, 138.08batch/s, acc=nan, loss=nan]  \n"
     ]
    },
    {
     "name": "stdout",
     "output_type": "stream",
     "text": [
      "Epoch 140 validation: Cross-entropy=0.03302459791302681, Accuracy=0.9904761910438538\n"
     ]
    },
    {
     "name": "stderr",
     "output_type": "stream",
     "text": [
      "Epoch 141: 100%|██████████| 149/149 [00:01<00:00, 127.02batch/s, acc=nan, loss=nan]  \n"
     ]
    },
    {
     "name": "stdout",
     "output_type": "stream",
     "text": [
      "Epoch 141 validation: Cross-entropy=0.03303467109799385, Accuracy=0.9904761910438538\n"
     ]
    },
    {
     "name": "stderr",
     "output_type": "stream",
     "text": [
      "Epoch 142: 100%|██████████| 149/149 [00:01<00:00, 130.46batch/s, acc=nan, loss=nan]  \n"
     ]
    },
    {
     "name": "stdout",
     "output_type": "stream",
     "text": [
      "Epoch 142 validation: Cross-entropy=0.033003389835357666, Accuracy=0.9904761910438538\n"
     ]
    },
    {
     "name": "stderr",
     "output_type": "stream",
     "text": [
      "Epoch 143: 100%|██████████| 149/149 [00:01<00:00, 126.97batch/s, acc=nan, loss=nan]  \n"
     ]
    },
    {
     "name": "stdout",
     "output_type": "stream",
     "text": [
      "Epoch 143 validation: Cross-entropy=0.03299205005168915, Accuracy=0.9904761910438538\n"
     ]
    },
    {
     "name": "stderr",
     "output_type": "stream",
     "text": [
      "Epoch 144: 100%|██████████| 149/149 [00:01<00:00, 123.13batch/s, acc=nan, loss=nan]  \n"
     ]
    },
    {
     "name": "stdout",
     "output_type": "stream",
     "text": [
      "Epoch 144 validation: Cross-entropy=0.032971497625112534, Accuracy=0.9904761910438538\n"
     ]
    },
    {
     "name": "stderr",
     "output_type": "stream",
     "text": [
      "Epoch 145: 100%|██████████| 149/149 [00:01<00:00, 119.29batch/s, acc=nan, loss=nan]  \n"
     ]
    },
    {
     "name": "stdout",
     "output_type": "stream",
     "text": [
      "Epoch 145 validation: Cross-entropy=0.032955486327409744, Accuracy=0.9904761910438538\n"
     ]
    },
    {
     "name": "stderr",
     "output_type": "stream",
     "text": [
      "Epoch 146: 100%|██████████| 149/149 [00:01<00:00, 125.94batch/s, acc=nan, loss=nan]  \n"
     ]
    },
    {
     "name": "stdout",
     "output_type": "stream",
     "text": [
      "Epoch 146 validation: Cross-entropy=0.032937414944171906, Accuracy=0.9904761910438538\n"
     ]
    },
    {
     "name": "stderr",
     "output_type": "stream",
     "text": [
      "Epoch 147: 100%|██████████| 149/149 [00:00<00:00, 151.87batch/s, acc=nan, loss=nan]  \n"
     ]
    },
    {
     "name": "stdout",
     "output_type": "stream",
     "text": [
      "Epoch 147 validation: Cross-entropy=0.03292040899395943, Accuracy=0.9904761910438538\n"
     ]
    },
    {
     "name": "stderr",
     "output_type": "stream",
     "text": [
      "Epoch 148: 100%|██████████| 149/149 [00:01<00:00, 129.67batch/s, acc=nan, loss=nan] \n"
     ]
    },
    {
     "name": "stdout",
     "output_type": "stream",
     "text": [
      "Epoch 148 validation: Cross-entropy=0.03290318697690964, Accuracy=0.9904761910438538\n"
     ]
    },
    {
     "name": "stderr",
     "output_type": "stream",
     "text": [
      "Epoch 149: 100%|██████████| 149/149 [00:01<00:00, 134.29batch/s, acc=nan, loss=nan]  \n"
     ]
    },
    {
     "name": "stdout",
     "output_type": "stream",
     "text": [
      "Epoch 149 validation: Cross-entropy=0.03286513686180115, Accuracy=0.9904761910438538\n"
     ]
    },
    {
     "name": "stderr",
     "output_type": "stream",
     "text": [
      "Epoch 150: 100%|██████████| 149/149 [00:01<00:00, 137.06batch/s, acc=nan, loss=nan]  \n"
     ]
    },
    {
     "name": "stdout",
     "output_type": "stream",
     "text": [
      "Epoch 150 validation: Cross-entropy=0.03287985548377037, Accuracy=0.9904761910438538\n"
     ]
    },
    {
     "name": "stderr",
     "output_type": "stream",
     "text": [
      "Epoch 151: 100%|██████████| 149/149 [00:01<00:00, 138.52batch/s, acc=nan, loss=nan]  \n"
     ]
    },
    {
     "name": "stdout",
     "output_type": "stream",
     "text": [
      "Epoch 151 validation: Cross-entropy=0.03275555372238159, Accuracy=0.9904761910438538\n"
     ]
    },
    {
     "name": "stderr",
     "output_type": "stream",
     "text": [
      "Epoch 152: 100%|██████████| 149/149 [00:01<00:00, 136.88batch/s, acc=nan, loss=nan]  \n"
     ]
    },
    {
     "name": "stdout",
     "output_type": "stream",
     "text": [
      "Epoch 152 validation: Cross-entropy=0.03285863995552063, Accuracy=0.9904761910438538\n"
     ]
    },
    {
     "name": "stderr",
     "output_type": "stream",
     "text": [
      "Epoch 153: 100%|██████████| 149/149 [00:01<00:00, 135.32batch/s, acc=nan, loss=nan]  \n"
     ]
    },
    {
     "name": "stdout",
     "output_type": "stream",
     "text": [
      "Epoch 153 validation: Cross-entropy=0.03278479352593422, Accuracy=0.9904761910438538\n"
     ]
    },
    {
     "name": "stderr",
     "output_type": "stream",
     "text": [
      "Epoch 154: 100%|██████████| 149/149 [00:01<00:00, 137.06batch/s, acc=nan, loss=nan]  \n"
     ]
    },
    {
     "name": "stdout",
     "output_type": "stream",
     "text": [
      "Epoch 154 validation: Cross-entropy=0.0327957347035408, Accuracy=0.9904761910438538\n"
     ]
    },
    {
     "name": "stderr",
     "output_type": "stream",
     "text": [
      "Epoch 155: 100%|██████████| 149/149 [00:01<00:00, 123.28batch/s, acc=nan, loss=nan]  \n"
     ]
    },
    {
     "name": "stdout",
     "output_type": "stream",
     "text": [
      "Epoch 155 validation: Cross-entropy=0.03276614844799042, Accuracy=0.9904761910438538\n"
     ]
    },
    {
     "name": "stderr",
     "output_type": "stream",
     "text": [
      "Epoch 156: 100%|██████████| 149/149 [00:01<00:00, 126.47batch/s, acc=nan, loss=nan]  \n"
     ]
    },
    {
     "name": "stdout",
     "output_type": "stream",
     "text": [
      "Epoch 156 validation: Cross-entropy=0.032776813954114914, Accuracy=0.9904761910438538\n"
     ]
    },
    {
     "name": "stderr",
     "output_type": "stream",
     "text": [
      "Epoch 157: 100%|██████████| 149/149 [00:01<00:00, 124.25batch/s, acc=nan, loss=nan]  \n"
     ]
    },
    {
     "name": "stdout",
     "output_type": "stream",
     "text": [
      "Epoch 157 validation: Cross-entropy=0.03274685889482498, Accuracy=0.9904761910438538\n"
     ]
    },
    {
     "name": "stderr",
     "output_type": "stream",
     "text": [
      "Epoch 158: 100%|██████████| 149/149 [00:01<00:00, 121.71batch/s, acc=nan, loss=nan]  \n"
     ]
    },
    {
     "name": "stdout",
     "output_type": "stream",
     "text": [
      "Epoch 158 validation: Cross-entropy=0.032736558467149734, Accuracy=0.9904761910438538\n"
     ]
    },
    {
     "name": "stderr",
     "output_type": "stream",
     "text": [
      "Epoch 159: 100%|██████████| 149/149 [00:01<00:00, 125.30batch/s, acc=nan, loss=nan]  \n"
     ]
    },
    {
     "name": "stdout",
     "output_type": "stream",
     "text": [
      "Epoch 159 validation: Cross-entropy=0.03271683678030968, Accuracy=0.9904761910438538\n"
     ]
    },
    {
     "name": "stderr",
     "output_type": "stream",
     "text": [
      "Epoch 160: 100%|██████████| 149/149 [00:01<00:00, 145.07batch/s, acc=nan, loss=nan] \n"
     ]
    },
    {
     "name": "stdout",
     "output_type": "stream",
     "text": [
      "Epoch 160 validation: Cross-entropy=0.03270197659730911, Accuracy=0.9904761910438538\n"
     ]
    },
    {
     "name": "stderr",
     "output_type": "stream",
     "text": [
      "Epoch 161: 100%|██████████| 149/149 [00:01<00:00, 130.58batch/s, acc=nan, loss=nan]  \n"
     ]
    },
    {
     "name": "stdout",
     "output_type": "stream",
     "text": [
      "Epoch 161 validation: Cross-entropy=0.032684870064258575, Accuracy=0.9904761910438538\n"
     ]
    },
    {
     "name": "stderr",
     "output_type": "stream",
     "text": [
      "Epoch 162: 100%|██████████| 149/149 [00:01<00:00, 139.63batch/s, acc=nan, loss=nan]  \n"
     ]
    },
    {
     "name": "stdout",
     "output_type": "stream",
     "text": [
      "Epoch 162 validation: Cross-entropy=0.03266899287700653, Accuracy=0.9904761910438538\n"
     ]
    },
    {
     "name": "stderr",
     "output_type": "stream",
     "text": [
      "Epoch 163: 100%|██████████| 149/149 [00:01<00:00, 143.74batch/s, acc=nan, loss=nan]  \n"
     ]
    },
    {
     "name": "stdout",
     "output_type": "stream",
     "text": [
      "Epoch 163 validation: Cross-entropy=0.0326525904238224, Accuracy=0.9904761910438538\n"
     ]
    },
    {
     "name": "stderr",
     "output_type": "stream",
     "text": [
      "Epoch 164: 100%|██████████| 149/149 [00:01<00:00, 142.71batch/s, acc=nan, loss=nan]  \n"
     ]
    },
    {
     "name": "stdout",
     "output_type": "stream",
     "text": [
      "Epoch 164 validation: Cross-entropy=0.03263671696186066, Accuracy=0.9904761910438538\n"
     ]
    },
    {
     "name": "stderr",
     "output_type": "stream",
     "text": [
      "Epoch 165: 100%|██████████| 149/149 [00:01<00:00, 137.38batch/s, acc=nan, loss=nan]  \n"
     ]
    },
    {
     "name": "stdout",
     "output_type": "stream",
     "text": [
      "Epoch 165 validation: Cross-entropy=0.03262056037783623, Accuracy=0.9904761910438538\n"
     ]
    },
    {
     "name": "stderr",
     "output_type": "stream",
     "text": [
      "Epoch 166: 100%|██████████| 149/149 [00:01<00:00, 139.63batch/s, acc=nan, loss=nan]  \n"
     ]
    },
    {
     "name": "stdout",
     "output_type": "stream",
     "text": [
      "Epoch 166 validation: Cross-entropy=0.03258443623781204, Accuracy=0.9904761910438538\n"
     ]
    },
    {
     "name": "stderr",
     "output_type": "stream",
     "text": [
      "Epoch 167: 100%|██████████| 149/149 [00:01<00:00, 132.91batch/s, acc=nan, loss=nan]  \n"
     ]
    },
    {
     "name": "stdout",
     "output_type": "stream",
     "text": [
      "Epoch 167 validation: Cross-entropy=0.032599467784166336, Accuracy=0.9904761910438538\n"
     ]
    },
    {
     "name": "stderr",
     "output_type": "stream",
     "text": [
      "Epoch 168: 100%|██████████| 149/149 [00:01<00:00, 138.78batch/s, acc=nan, loss=nan]  \n"
     ]
    },
    {
     "name": "stdout",
     "output_type": "stream",
     "text": [
      "Epoch 168 validation: Cross-entropy=0.03247688710689545, Accuracy=0.9904761910438538\n"
     ]
    },
    {
     "name": "stderr",
     "output_type": "stream",
     "text": [
      "Epoch 169: 100%|██████████| 149/149 [00:01<00:00, 125.83batch/s, acc=nan, loss=nan]  \n"
     ]
    },
    {
     "name": "stdout",
     "output_type": "stream",
     "text": [
      "Epoch 169 validation: Cross-entropy=0.032580796629190445, Accuracy=0.9904761910438538\n"
     ]
    },
    {
     "name": "stderr",
     "output_type": "stream",
     "text": [
      "Epoch 170: 100%|██████████| 149/149 [00:01<00:00, 125.31batch/s, acc=nan, loss=nan]  \n"
     ]
    },
    {
     "name": "stdout",
     "output_type": "stream",
     "text": [
      "Epoch 170 validation: Cross-entropy=0.03250836580991745, Accuracy=0.9904761910438538\n"
     ]
    },
    {
     "name": "stderr",
     "output_type": "stream",
     "text": [
      "Epoch 171: 100%|██████████| 149/149 [00:01<00:00, 125.94batch/s, acc=nan, loss=nan]  \n"
     ]
    },
    {
     "name": "stdout",
     "output_type": "stream",
     "text": [
      "Epoch 171 validation: Cross-entropy=0.032520394772291183, Accuracy=0.9904761910438538\n"
     ]
    },
    {
     "name": "stderr",
     "output_type": "stream",
     "text": [
      "Epoch 172: 100%|██████████| 149/149 [00:01<00:00, 131.96batch/s, acc=nan, loss=nan] \n"
     ]
    },
    {
     "name": "stdout",
     "output_type": "stream",
     "text": [
      "Epoch 172 validation: Cross-entropy=0.03249233961105347, Accuracy=0.9904761910438538\n"
     ]
    },
    {
     "name": "stderr",
     "output_type": "stream",
     "text": [
      "Epoch 173: 100%|██████████| 149/149 [00:01<00:00, 123.85batch/s, acc=nan, loss=nan]  \n"
     ]
    },
    {
     "name": "stdout",
     "output_type": "stream",
     "text": [
      "Epoch 173 validation: Cross-entropy=0.032503269612789154, Accuracy=0.9904761910438538\n"
     ]
    },
    {
     "name": "stderr",
     "output_type": "stream",
     "text": [
      "Epoch 174: 100%|██████████| 149/149 [00:01<00:00, 122.02batch/s, acc=nan, loss=nan]  \n"
     ]
    },
    {
     "name": "stdout",
     "output_type": "stream",
     "text": [
      "Epoch 174 validation: Cross-entropy=0.03247489780187607, Accuracy=0.9904761910438538\n"
     ]
    },
    {
     "name": "stderr",
     "output_type": "stream",
     "text": [
      "Epoch 175: 100%|██████████| 149/149 [00:01<00:00, 130.12batch/s, acc=nan, loss=nan]  \n"
     ]
    },
    {
     "name": "stdout",
     "output_type": "stream",
     "text": [
      "Epoch 175 validation: Cross-entropy=0.03246558457612991, Accuracy=0.9904761910438538\n"
     ]
    },
    {
     "name": "stderr",
     "output_type": "stream",
     "text": [
      "Epoch 176: 100%|██████████| 149/149 [00:01<00:00, 138.98batch/s, acc=nan, loss=nan]  \n"
     ]
    },
    {
     "name": "stdout",
     "output_type": "stream",
     "text": [
      "Epoch 176 validation: Cross-entropy=0.032447196543216705, Accuracy=0.9904761910438538\n"
     ]
    },
    {
     "name": "stderr",
     "output_type": "stream",
     "text": [
      "Epoch 177: 100%|██████████| 149/149 [00:01<00:00, 148.25batch/s, acc=nan, loss=nan]  \n"
     ]
    },
    {
     "name": "stdout",
     "output_type": "stream",
     "text": [
      "Epoch 177 validation: Cross-entropy=0.03243333101272583, Accuracy=0.9904761910438538\n"
     ]
    },
    {
     "name": "stderr",
     "output_type": "stream",
     "text": [
      "Epoch 178: 100%|██████████| 149/149 [00:01<00:00, 140.82batch/s, acc=nan, loss=nan]  \n"
     ]
    },
    {
     "name": "stdout",
     "output_type": "stream",
     "text": [
      "Epoch 178 validation: Cross-entropy=0.03241739422082901, Accuracy=0.9904761910438538\n"
     ]
    },
    {
     "name": "stderr",
     "output_type": "stream",
     "text": [
      "Epoch 179: 100%|██████████| 149/149 [00:01<00:00, 143.40batch/s, acc=nan, loss=nan]  \n"
     ]
    },
    {
     "name": "stdout",
     "output_type": "stream",
     "text": [
      "Epoch 179 validation: Cross-entropy=0.03240262344479561, Accuracy=0.9904761910438538\n"
     ]
    },
    {
     "name": "stderr",
     "output_type": "stream",
     "text": [
      "Epoch 180: 100%|██████████| 149/149 [00:01<00:00, 137.82batch/s, acc=nan, loss=nan]  \n"
     ]
    },
    {
     "name": "stdout",
     "output_type": "stream",
     "text": [
      "Epoch 180 validation: Cross-entropy=0.032387249171733856, Accuracy=0.9904761910438538\n"
     ]
    },
    {
     "name": "stderr",
     "output_type": "stream",
     "text": [
      "Epoch 181: 100%|██████████| 149/149 [00:01<00:00, 129.66batch/s, acc=nan, loss=nan]  \n"
     ]
    },
    {
     "name": "stdout",
     "output_type": "stream",
     "text": [
      "Epoch 181 validation: Cross-entropy=0.03237244859337807, Accuracy=0.9904761910438538\n"
     ]
    },
    {
     "name": "stderr",
     "output_type": "stream",
     "text": [
      "Epoch 182: 100%|██████████| 149/149 [00:01<00:00, 127.89batch/s, acc=nan, loss=nan]  \n"
     ]
    },
    {
     "name": "stdout",
     "output_type": "stream",
     "text": [
      "Epoch 182 validation: Cross-entropy=0.032357558608055115, Accuracy=0.9904761910438538\n"
     ]
    },
    {
     "name": "stderr",
     "output_type": "stream",
     "text": [
      "Epoch 183: 100%|██████████| 149/149 [00:01<00:00, 116.76batch/s, acc=nan, loss=nan]  \n"
     ]
    },
    {
     "name": "stdout",
     "output_type": "stream",
     "text": [
      "Epoch 183 validation: Cross-entropy=0.03234260156750679, Accuracy=0.9904761910438538\n"
     ]
    },
    {
     "name": "stderr",
     "output_type": "stream",
     "text": [
      "Epoch 184: 100%|██████████| 149/149 [00:01<00:00, 117.13batch/s, acc=nan, loss=nan]  \n"
     ]
    },
    {
     "name": "stdout",
     "output_type": "stream",
     "text": [
      "Epoch 184 validation: Cross-entropy=0.03232797235250473, Accuracy=0.9904761910438538\n"
     ]
    },
    {
     "name": "stderr",
     "output_type": "stream",
     "text": [
      "Epoch 185: 100%|██████████| 149/149 [00:01<00:00, 126.48batch/s, acc=nan, loss=nan]  \n"
     ]
    },
    {
     "name": "stdout",
     "output_type": "stream",
     "text": [
      "Epoch 185 validation: Cross-entropy=0.03231307119131088, Accuracy=0.9904761910438538\n"
     ]
    },
    {
     "name": "stderr",
     "output_type": "stream",
     "text": [
      "Epoch 186: 100%|██████████| 149/149 [00:01<00:00, 112.44batch/s, acc=nan, loss=nan]  \n"
     ]
    },
    {
     "name": "stdout",
     "output_type": "stream",
     "text": [
      "Epoch 186 validation: Cross-entropy=0.0322984978556633, Accuracy=0.9904761910438538\n"
     ]
    },
    {
     "name": "stderr",
     "output_type": "stream",
     "text": [
      "Epoch 187: 100%|██████████| 149/149 [00:01<00:00, 107.81batch/s, acc=nan, loss=nan] \n"
     ]
    },
    {
     "name": "stdout",
     "output_type": "stream",
     "text": [
      "Epoch 187 validation: Cross-entropy=0.03217281028628349, Accuracy=0.9904761910438538\n"
     ]
    },
    {
     "name": "stderr",
     "output_type": "stream",
     "text": [
      "Epoch 188: 100%|██████████| 149/149 [00:01<00:00, 119.48batch/s, acc=nan, loss=nan]  \n"
     ]
    },
    {
     "name": "stdout",
     "output_type": "stream",
     "text": [
      "Epoch 188 validation: Cross-entropy=0.032300159335136414, Accuracy=0.9904761910438538\n"
     ]
    },
    {
     "name": "stderr",
     "output_type": "stream",
     "text": [
      "Epoch 189: 100%|██████████| 149/149 [00:01<00:00, 120.25batch/s, acc=nan, loss=nan]  \n"
     ]
    },
    {
     "name": "stdout",
     "output_type": "stream",
     "text": [
      "Epoch 189 validation: Cross-entropy=0.03221825137734413, Accuracy=0.9904761910438538\n"
     ]
    },
    {
     "name": "stderr",
     "output_type": "stream",
     "text": [
      "Epoch 190: 100%|██████████| 149/149 [00:01<00:00, 124.78batch/s, acc=nan, loss=nan]  \n"
     ]
    },
    {
     "name": "stdout",
     "output_type": "stream",
     "text": [
      "Epoch 190 validation: Cross-entropy=0.03223041445016861, Accuracy=0.9904761910438538\n"
     ]
    },
    {
     "name": "stderr",
     "output_type": "stream",
     "text": [
      "Epoch 191: 100%|██████████| 149/149 [00:01<00:00, 127.23batch/s, acc=nan, loss=nan]  \n"
     ]
    },
    {
     "name": "stdout",
     "output_type": "stream",
     "text": [
      "Epoch 191 validation: Cross-entropy=0.032203759998083115, Accuracy=0.9904761910438538\n"
     ]
    },
    {
     "name": "stderr",
     "output_type": "stream",
     "text": [
      "Epoch 192: 100%|██████████| 149/149 [00:01<00:00, 123.44batch/s, acc=nan, loss=nan]  \n"
     ]
    },
    {
     "name": "stdout",
     "output_type": "stream",
     "text": [
      "Epoch 192 validation: Cross-entropy=0.032195594161748886, Accuracy=0.9904761910438538\n"
     ]
    },
    {
     "name": "stderr",
     "output_type": "stream",
     "text": [
      "Epoch 193: 100%|██████████| 149/149 [00:01<00:00, 124.36batch/s, acc=nan, loss=nan]  \n"
     ]
    },
    {
     "name": "stdout",
     "output_type": "stream",
     "text": [
      "Epoch 193 validation: Cross-entropy=0.03219819813966751, Accuracy=0.9904761910438538\n"
     ]
    },
    {
     "name": "stderr",
     "output_type": "stream",
     "text": [
      "Epoch 194: 100%|██████████| 149/149 [00:01<00:00, 124.05batch/s, acc=nan, loss=nan]  \n"
     ]
    },
    {
     "name": "stdout",
     "output_type": "stream",
     "text": [
      "Epoch 194 validation: Cross-entropy=0.03218136355280876, Accuracy=0.9904761910438538\n"
     ]
    },
    {
     "name": "stderr",
     "output_type": "stream",
     "text": [
      "Epoch 195: 100%|██████████| 149/149 [00:01<00:00, 132.67batch/s, acc=nan, loss=nan]  \n"
     ]
    },
    {
     "name": "stdout",
     "output_type": "stream",
     "text": [
      "Epoch 195 validation: Cross-entropy=0.032162051647901535, Accuracy=0.9904761910438538\n"
     ]
    },
    {
     "name": "stderr",
     "output_type": "stream",
     "text": [
      "Epoch 196: 100%|██████████| 149/149 [00:01<00:00, 111.14batch/s, acc=nan, loss=nan]  \n"
     ]
    },
    {
     "name": "stdout",
     "output_type": "stream",
     "text": [
      "Epoch 196 validation: Cross-entropy=0.03213079273700714, Accuracy=0.9904761910438538\n"
     ]
    },
    {
     "name": "stderr",
     "output_type": "stream",
     "text": [
      "Epoch 197: 100%|██████████| 149/149 [00:01<00:00, 114.43batch/s, acc=nan, loss=nan]  \n"
     ]
    },
    {
     "name": "stdout",
     "output_type": "stream",
     "text": [
      "Epoch 197 validation: Cross-entropy=0.032144758850336075, Accuracy=0.9904761910438538\n"
     ]
    },
    {
     "name": "stderr",
     "output_type": "stream",
     "text": [
      "Epoch 198: 100%|██████████| 149/149 [00:01<00:00, 115.05batch/s, acc=nan, loss=nan]  \n"
     ]
    },
    {
     "name": "stdout",
     "output_type": "stream",
     "text": [
      "Epoch 198 validation: Cross-entropy=0.03211688622832298, Accuracy=0.9904761910438538\n"
     ]
    },
    {
     "name": "stderr",
     "output_type": "stream",
     "text": [
      "Epoch 199: 100%|██████████| 149/149 [00:01<00:00, 115.28batch/s, acc=nan, loss=nan]  \n"
     ]
    },
    {
     "name": "stdout",
     "output_type": "stream",
     "text": [
      "Epoch 199 validation: Cross-entropy=0.032096017152071, Accuracy=0.9904761910438538\n"
     ]
    },
    {
     "data": {
      "text/plain": [
       "<All keys matched successfully>"
      ]
     },
     "execution_count": 17,
     "metadata": {},
     "output_type": "execute_result"
    }
   ],
   "source": [
    "import copy\n",
    "import tqdm\n",
    "import numpy as np\n",
    "\n",
    "n_epochs = 200\n",
    "batch_size = 5\n",
    "batches_per_epoch = len(x)\n",
    "\n",
    "best_acc = - np.inf\n",
    "best_weights = None\n",
    "train_loss_hist = []\n",
    "train_acc_hist = []\n",
    "test_loss_hist = []\n",
    "test_acc_hsit = []\n",
    "\n",
    "for epoch in range(n_epochs):\n",
    "    epoch_loss = []\n",
    "    epoch_acc = []\n",
    "    \n",
    "    # set model in training mode and run through each batch\n",
    "    model.train()\n",
    "    with tqdm.trange(batches_per_epoch, unit='batch', mininterval=0) as bar:\n",
    "        bar.set_description(f'Epoch {epoch}')\n",
    "        for i in bar:\n",
    "            # Take a batch\n",
    "            start = i * batch_size\n",
    "            x_batch = x[start:start+batch_size]\n",
    "            y_batch = y[start:start+batch_size]\n",
    "            # forward pass\n",
    "            y_pred = model(x_batch)\n",
    "            loss = loss_fn(y_pred, y_batch)\n",
    "            # backward pass\n",
    "            optimizer.zero_grad()\n",
    "            loss.backward()\n",
    "            # update weights\n",
    "            optimizer.step()\n",
    "            # compute and store metrics\n",
    "            acc = (torch.argmax(y_pred, 1) == torch.argmax(y_batch, 1)).float().mean()\n",
    "            epoch_loss.append(float(loss))\n",
    "            epoch_acc.append(float(acc))\n",
    "            bar.set_postfix(\n",
    "                loss = float(loss),\n",
    "                acc = float(acc)\n",
    "            )\n",
    "            \n",
    "    # set model in evaluation mode and run through test set\n",
    "    model.eval()\n",
    "    y_pred = model(x_test)\n",
    "    ce = loss_fn(y_pred, y_test) \n",
    "    acc = (torch.argmax(y_pred, 1) == torch.argmax(y_test, 1)).float().mean()\n",
    "    ce = float(ce)\n",
    "    acc = float(acc)\n",
    "    train_loss_hist.append(np.mean(epoch_loss))\n",
    "    train_acc_hist.append(np.mean(epoch_acc))\n",
    "    test_loss_hist.append(ce)\n",
    "    test_acc_hsit.append(acc)\n",
    "    if acc > best_acc:\n",
    "        best_acc = acc\n",
    "        best_weights = copy.deepcopy(model.state_dict())\n",
    "    print(f'Epoch {epoch} validation: Cross-entropy={ce}, Accuracy={acc}')\n",
    "        \n",
    "model.load_state_dict(best_weights)"
   ]
  },
  {
   "cell_type": "code",
   "execution_count": 18,
   "id": "fe17b62d",
   "metadata": {
    "scrolled": true
   },
   "outputs": [
    {
     "data": {
      "image/png": "[encoded data removed]",
      "text/plain": [
       "<Figure size 432x288 with 1 Axes>"
      ]
     },
     "metadata": {
      "needs_background": "light"
     },
     "output_type": "display_data"
    },
    {
     "data": {
      "image/png": "[encoded data removed]",
      "text/plain": [
       "<Figure size 432x288 with 1 Axes>"
      ]
     },
     "metadata": {
      "needs_background": "light"
     },
     "output_type": "display_data"
    }
   ],
   "source": [
    "import matplotlib.pyplot as plt\n",
    "\n",
    "plt.plot(train_loss_hist, label='train')\n",
    "plt.plot(test_loss_hist, label='test')\n",
    "plt.xlabel('epochs')\n",
    "plt.ylabel('cross entropy')\n",
    "plt.legend()\n",
    "plt.show()\n",
    "\n",
    "plt.plot(train_acc_hist, label='train')\n",
    "plt.plot(test_acc_hsit, label='test')\n",
    "plt.xlabel('epochs')\n",
    "plt.ylabel('accuracy')\n",
    "plt.legend()\n",
    "plt.show()\n"
   ]
  }
 ],
 "metadata": {
  "kernelspec": {
   "display_name": "Python 3 (ipykernel)",
   "language": "python",
   "name": "python3"
  },
  "language_info": {
   "codemirror_mode": {
    "name": "ipython",
    "version": 3
   },
   "file_extension": ".py",
   "mimetype": "text/x-python",
   "name": "python",
   "nbconvert_exporter": "python",
   "pygments_lexer": "ipython3",
   "version": "3.9.12"
  }
 },
 "nbformat": 4,
 "nbformat_minor": 5
}
